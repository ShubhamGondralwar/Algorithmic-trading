{
 "cells": [
  {
   "cell_type": "markdown",
   "metadata": {},
   "source": [
    "# ALGORITHMIC TRADING(STATE BANK OF INDIA)\n",
    "AUTHOR :SHUBHAM GONDRALWAR\n",
    "\n",
    "DATE WRITTEN: 07-06-2020"
   ]
  },
  {
   "cell_type": "markdown",
   "metadata": {},
   "source": [
    "The project is adressed with the aim of predicting the escorts ltd stock open price with the help of machine learning model which helps regular investors to assess their risks and avoid loss situations.\n"
   ]
  },
  {
   "cell_type": "markdown",
   "metadata": {},
   "source": [
    "Model building starts with extracting data of stock markets of different countries which enables us to find the STATE BANK'S trading day open price(Open price refers to the price when the trading starts on particular day).\n",
    "\n",
    "Next step is to load the dataset extracted from yahoo finance using pandas and extracting meaningful insights by visualisation using seaborn and matplotlib.\n",
    "\n",
    "Feature engineering and Feature selection are the most useful techniques used in order to make data meaningful for the machine learning model followed by Hyperparameter tuning.\n",
    "\n",
    "The model is finalised based on the perfomance of the model in the data used for testing and LIVE DATA AS WELL.\n",
    "\n",
    "In order to make it usable for the end user the web application is  made using python(Flask) as an API where the user needs to input the required data in order to get the stock open price of STATE BANK OF INDIA."
   ]
  },
  {
   "cell_type": "markdown",
   "metadata": {},
   "source": [
    "# LET'S GET STARTED"
   ]
  },
  {
   "cell_type": "code",
   "execution_count": 258,
   "metadata": {},
   "outputs": [],
   "source": [
    "# WE WILL START BY IMPORTING ALL THE LIBRARIES REQUIRED FOR MODEL BUILDING.\n",
    "import numpy as np # for numerical operation if any\n",
    "import pandas as pd # mainly used for loading dataset and to handle dataframe operations\n",
    "import matplotlib.pyplot as plt # for visulaisation\n",
    "import seaborn as sns # for visulisation\n",
    "from sklearn.preprocessing import StandardScaler\n",
    "from sklearn.linear_model import LinearRegression\n",
    "from sklearn.model_selection import train_test_split,GridSearchCV\n",
    "from sklearn import model_selection\n",
    "import math\n",
    "import datetime\n",
    "from feature_engine import missing_data_imputers as mdi\n",
    "from sklearn.pipeline import Pipeline\n",
    "import scipy.stats as stats\n",
    "import warnings\n",
    "warnings.filterwarnings('ignore')"
   ]
  },
  {
   "cell_type": "markdown",
   "metadata": {},
   "source": [
    "# Loading Datasets."
   ]
  },
  {
   "cell_type": "code",
   "execution_count": 259,
   "metadata": {},
   "outputs": [
    {
     "data": {
      "text/html": [
       "<div>\n",
       "<style scoped>\n",
       "    .dataframe tbody tr th:only-of-type {\n",
       "        vertical-align: middle;\n",
       "    }\n",
       "\n",
       "    .dataframe tbody tr th {\n",
       "        vertical-align: top;\n",
       "    }\n",
       "\n",
       "    .dataframe thead th {\n",
       "        text-align: right;\n",
       "    }\n",
       "</style>\n",
       "<table border=\"1\" class=\"dataframe\">\n",
       "  <thead>\n",
       "    <tr style=\"text-align: right;\">\n",
       "      <th></th>\n",
       "      <th>Date</th>\n",
       "      <th>SBIOpen</th>\n",
       "      <th>SBIAdj Close</th>\n",
       "      <th>sangaiclose</th>\n",
       "      <th>aust close</th>\n",
       "      <th>hangsangclose</th>\n",
       "      <th>nkkiesclose</th>\n",
       "      <th>nifty50 close</th>\n",
       "      <th>usclose</th>\n",
       "    </tr>\n",
       "  </thead>\n",
       "  <tbody>\n",
       "    <tr>\n",
       "      <th>0</th>\n",
       "      <td>03-01-2011</td>\n",
       "      <td>283.269989</td>\n",
       "      <td>134.789627</td>\n",
       "      <td>2808.076904</td>\n",
       "      <td>4745.200195</td>\n",
       "      <td>22436.20000</td>\n",
       "      <td>10398.09961</td>\n",
       "      <td>6134.500000</td>\n",
       "      <td>2652.870117</td>\n",
       "    </tr>\n",
       "    <tr>\n",
       "      <th>1</th>\n",
       "      <td>04-01-2011</td>\n",
       "      <td>283.440002</td>\n",
       "      <td>135.278580</td>\n",
       "      <td>2808.076904</td>\n",
       "      <td>4742.500000</td>\n",
       "      <td>23436.05078</td>\n",
       "      <td>10380.76953</td>\n",
       "      <td>6157.600098</td>\n",
       "      <td>2691.520020</td>\n",
       "    </tr>\n",
       "    <tr>\n",
       "      <th>2</th>\n",
       "      <td>05-01-2011</td>\n",
       "      <td>273.500000</td>\n",
       "      <td>131.132156</td>\n",
       "      <td>2852.647949</td>\n",
       "      <td>4714.899902</td>\n",
       "      <td>23668.48047</td>\n",
       "      <td>10529.75977</td>\n",
       "      <td>6146.350098</td>\n",
       "      <td>2681.250000</td>\n",
       "    </tr>\n",
       "    <tr>\n",
       "      <th>3</th>\n",
       "      <td>06-01-2011</td>\n",
       "      <td>271.399994</td>\n",
       "      <td>129.099701</td>\n",
       "      <td>2839.220947</td>\n",
       "      <td>4725.000000</td>\n",
       "      <td>23757.82031</td>\n",
       "      <td>10541.04004</td>\n",
       "      <td>6079.799805</td>\n",
       "      <td>2702.199951</td>\n",
       "    </tr>\n",
       "    <tr>\n",
       "      <th>4</th>\n",
       "      <td>07-01-2011</td>\n",
       "      <td>261.790009</td>\n",
       "      <td>125.705864</td>\n",
       "      <td>2824.197021</td>\n",
       "      <td>4705.000000</td>\n",
       "      <td>23786.30078</td>\n",
       "      <td>10510.67969</td>\n",
       "      <td>6048.250000</td>\n",
       "      <td>2709.889893</td>\n",
       "    </tr>\n",
       "  </tbody>\n",
       "</table>\n",
       "</div>"
      ],
      "text/plain": [
       "         Date     SBIOpen  SBIAdj Close  sangaiclose   aust close  \\\n",
       "0  03-01-2011  283.269989    134.789627  2808.076904  4745.200195   \n",
       "1  04-01-2011  283.440002    135.278580  2808.076904  4742.500000   \n",
       "2  05-01-2011  273.500000    131.132156  2852.647949  4714.899902   \n",
       "3  06-01-2011  271.399994    129.099701  2839.220947  4725.000000   \n",
       "4  07-01-2011  261.790009    125.705864  2824.197021  4705.000000   \n",
       "\n",
       "   hangsangclose  nkkiesclose  nifty50 close      usclose  \n",
       "0    22436.20000  10398.09961    6134.500000  2652.870117  \n",
       "1    23436.05078  10380.76953    6157.600098  2691.520020  \n",
       "2    23668.48047  10529.75977    6146.350098  2681.250000  \n",
       "3    23757.82031  10541.04004    6079.799805  2702.199951  \n",
       "4    23786.30078  10510.67969    6048.250000  2709.889893  "
      ]
     },
     "execution_count": 259,
     "metadata": {},
     "output_type": "execute_result"
    }
   ],
   "source": [
    "sbi = pd.read_csv(\"F:/Data science and web devlopmemnt/value c assignments/assignment 3/SBI/sbi test.csv\")\n",
    "sbi.head()"
   ]
  },
  {
   "cell_type": "code",
   "execution_count": 260,
   "metadata": {},
   "outputs": [
    {
     "data": {
      "text/html": [
       "<div>\n",
       "<style scoped>\n",
       "    .dataframe tbody tr th:only-of-type {\n",
       "        vertical-align: middle;\n",
       "    }\n",
       "\n",
       "    .dataframe tbody tr th {\n",
       "        vertical-align: top;\n",
       "    }\n",
       "\n",
       "    .dataframe thead th {\n",
       "        text-align: right;\n",
       "    }\n",
       "</style>\n",
       "<table border=\"1\" class=\"dataframe\">\n",
       "  <thead>\n",
       "    <tr style=\"text-align: right;\">\n",
       "      <th></th>\n",
       "      <th>Date</th>\n",
       "      <th>hangopen</th>\n",
       "    </tr>\n",
       "  </thead>\n",
       "  <tbody>\n",
       "    <tr>\n",
       "      <th>0</th>\n",
       "      <td>03-01-2011</td>\n",
       "      <td>23135.64063</td>\n",
       "    </tr>\n",
       "    <tr>\n",
       "      <th>1</th>\n",
       "      <td>04-01-2011</td>\n",
       "      <td>23477.31055</td>\n",
       "    </tr>\n",
       "    <tr>\n",
       "      <th>2</th>\n",
       "      <td>05-01-2011</td>\n",
       "      <td>23650.17969</td>\n",
       "    </tr>\n",
       "    <tr>\n",
       "      <th>3</th>\n",
       "      <td>06-01-2011</td>\n",
       "      <td>23861.22070</td>\n",
       "    </tr>\n",
       "    <tr>\n",
       "      <th>4</th>\n",
       "      <td>07-01-2011</td>\n",
       "      <td>23744.02930</td>\n",
       "    </tr>\n",
       "  </tbody>\n",
       "</table>\n",
       "</div>"
      ],
      "text/plain": [
       "         Date     hangopen\n",
       "0  03-01-2011  23135.64063\n",
       "1  04-01-2011  23477.31055\n",
       "2  05-01-2011  23650.17969\n",
       "3  06-01-2011  23861.22070\n",
       "4  07-01-2011  23744.02930"
      ]
     },
     "execution_count": 260,
     "metadata": {},
     "output_type": "execute_result"
    }
   ],
   "source": [
    "hongkong = pd.read_csv(\"F:/Data science and web devlopmemnt/value c assignments/assignment 3/hongkong.csv\")#hangseng market index\n",
    "hongkong.head()"
   ]
  },
  {
   "cell_type": "code",
   "execution_count": 261,
   "metadata": {},
   "outputs": [
    {
     "data": {
      "text/html": [
       "<div>\n",
       "<style scoped>\n",
       "    .dataframe tbody tr th:only-of-type {\n",
       "        vertical-align: middle;\n",
       "    }\n",
       "\n",
       "    .dataframe tbody tr th {\n",
       "        vertical-align: top;\n",
       "    }\n",
       "\n",
       "    .dataframe thead th {\n",
       "        text-align: right;\n",
       "    }\n",
       "</style>\n",
       "<table border=\"1\" class=\"dataframe\">\n",
       "  <thead>\n",
       "    <tr style=\"text-align: right;\">\n",
       "      <th></th>\n",
       "      <th>Date</th>\n",
       "      <th>austopen</th>\n",
       "    </tr>\n",
       "  </thead>\n",
       "  <tbody>\n",
       "    <tr>\n",
       "      <th>0</th>\n",
       "      <td>31-12-2010</td>\n",
       "      <td>4787.500000</td>\n",
       "    </tr>\n",
       "    <tr>\n",
       "      <th>1</th>\n",
       "      <td>04-01-2011</td>\n",
       "      <td>4758.299805</td>\n",
       "    </tr>\n",
       "    <tr>\n",
       "      <th>2</th>\n",
       "      <td>05-01-2011</td>\n",
       "      <td>4738.600098</td>\n",
       "    </tr>\n",
       "    <tr>\n",
       "      <th>3</th>\n",
       "      <td>06-01-2011</td>\n",
       "      <td>4717.700195</td>\n",
       "    </tr>\n",
       "    <tr>\n",
       "      <th>4</th>\n",
       "      <td>07-01-2011</td>\n",
       "      <td>4717.799805</td>\n",
       "    </tr>\n",
       "  </tbody>\n",
       "</table>\n",
       "</div>"
      ],
      "text/plain": [
       "         Date     austopen\n",
       "0  31-12-2010  4787.500000\n",
       "1  04-01-2011  4758.299805\n",
       "2  05-01-2011  4738.600098\n",
       "3  06-01-2011  4717.700195\n",
       "4  07-01-2011  4717.799805"
      ]
     },
     "execution_count": 261,
     "metadata": {},
     "output_type": "execute_result"
    }
   ],
   "source": [
    "austrilia = pd.read_csv(\"F:/Data science and web devlopmemnt/value c assignments/assignment 3/australia.csv\")#austrilia markey index\n",
    "austrilia.head()\n",
    "#austrilia.shape"
   ]
  },
  {
   "cell_type": "code",
   "execution_count": 262,
   "metadata": {},
   "outputs": [
    {
     "data": {
      "text/html": [
       "<div>\n",
       "<style scoped>\n",
       "    .dataframe tbody tr th:only-of-type {\n",
       "        vertical-align: middle;\n",
       "    }\n",
       "\n",
       "    .dataframe tbody tr th {\n",
       "        vertical-align: top;\n",
       "    }\n",
       "\n",
       "    .dataframe thead th {\n",
       "        text-align: right;\n",
       "    }\n",
       "</style>\n",
       "<table border=\"1\" class=\"dataframe\">\n",
       "  <thead>\n",
       "    <tr style=\"text-align: right;\">\n",
       "      <th></th>\n",
       "      <th>Date</th>\n",
       "      <th>nikkiesopen</th>\n",
       "    </tr>\n",
       "  </thead>\n",
       "  <tbody>\n",
       "    <tr>\n",
       "      <th>0</th>\n",
       "      <td>04-01-2011</td>\n",
       "      <td>10352.19043</td>\n",
       "    </tr>\n",
       "    <tr>\n",
       "      <th>1</th>\n",
       "      <td>05-01-2011</td>\n",
       "      <td>10387.95020</td>\n",
       "    </tr>\n",
       "    <tr>\n",
       "      <th>2</th>\n",
       "      <td>06-01-2011</td>\n",
       "      <td>10477.51953</td>\n",
       "    </tr>\n",
       "    <tr>\n",
       "      <th>3</th>\n",
       "      <td>07-01-2011</td>\n",
       "      <td>10506.71973</td>\n",
       "    </tr>\n",
       "    <tr>\n",
       "      <th>4</th>\n",
       "      <td>11-01-2011</td>\n",
       "      <td>10484.62012</td>\n",
       "    </tr>\n",
       "  </tbody>\n",
       "</table>\n",
       "</div>"
      ],
      "text/plain": [
       "         Date  nikkiesopen\n",
       "0  04-01-2011  10352.19043\n",
       "1  05-01-2011  10387.95020\n",
       "2  06-01-2011  10477.51953\n",
       "3  07-01-2011  10506.71973\n",
       "4  11-01-2011  10484.62012"
      ]
     },
     "execution_count": 262,
     "metadata": {},
     "output_type": "execute_result"
    }
   ],
   "source": [
    "nikkie = pd.read_csv(\"F:/Data science and web devlopmemnt/value c assignments/assignment 3/nikkie.csv\")#Japan's Nikkei 225 Stock Average.\n",
    "nikkie.head()\n",
    "#nikkie.shape#Japan's Nikkei 225 Stock Average dataset countains 2321 rows & 2 featurs."
   ]
  },
  {
   "cell_type": "code",
   "execution_count": 263,
   "metadata": {},
   "outputs": [
    {
     "data": {
      "text/html": [
       "<div>\n",
       "<style scoped>\n",
       "    .dataframe tbody tr th:only-of-type {\n",
       "        vertical-align: middle;\n",
       "    }\n",
       "\n",
       "    .dataframe tbody tr th {\n",
       "        vertical-align: top;\n",
       "    }\n",
       "\n",
       "    .dataframe thead th {\n",
       "        text-align: right;\n",
       "    }\n",
       "</style>\n",
       "<table border=\"1\" class=\"dataframe\">\n",
       "  <thead>\n",
       "    <tr style=\"text-align: right;\">\n",
       "      <th></th>\n",
       "      <th>Date</th>\n",
       "      <th>nikkiesopen</th>\n",
       "    </tr>\n",
       "  </thead>\n",
       "  <tbody>\n",
       "    <tr>\n",
       "      <th>0</th>\n",
       "      <td>04-01-2011</td>\n",
       "      <td>10352.19043</td>\n",
       "    </tr>\n",
       "    <tr>\n",
       "      <th>1</th>\n",
       "      <td>05-01-2011</td>\n",
       "      <td>10387.95020</td>\n",
       "    </tr>\n",
       "    <tr>\n",
       "      <th>2</th>\n",
       "      <td>06-01-2011</td>\n",
       "      <td>10477.51953</td>\n",
       "    </tr>\n",
       "    <tr>\n",
       "      <th>3</th>\n",
       "      <td>07-01-2011</td>\n",
       "      <td>10506.71973</td>\n",
       "    </tr>\n",
       "    <tr>\n",
       "      <th>4</th>\n",
       "      <td>11-01-2011</td>\n",
       "      <td>10484.62012</td>\n",
       "    </tr>\n",
       "  </tbody>\n",
       "</table>\n",
       "</div>"
      ],
      "text/plain": [
       "         Date  nikkiesopen\n",
       "0  04-01-2011  10352.19043\n",
       "1  05-01-2011  10387.95020\n",
       "2  06-01-2011  10477.51953\n",
       "3  07-01-2011  10506.71973\n",
       "4  11-01-2011  10484.62012"
      ]
     },
     "execution_count": 263,
     "metadata": {},
     "output_type": "execute_result"
    }
   ],
   "source": [
    "nikkie = pd.read_csv(\"F:/Data science and web devlopmemnt/value c assignments/assignment 3/nikkie.csv\")#japan index\n",
    "nikkie.head()\n",
    "#nikkie.shape"
   ]
  },
  {
   "cell_type": "code",
   "execution_count": 264,
   "metadata": {},
   "outputs": [
    {
     "data": {
      "text/html": [
       "<div>\n",
       "<style scoped>\n",
       "    .dataframe tbody tr th:only-of-type {\n",
       "        vertical-align: middle;\n",
       "    }\n",
       "\n",
       "    .dataframe tbody tr th {\n",
       "        vertical-align: top;\n",
       "    }\n",
       "\n",
       "    .dataframe thead th {\n",
       "        text-align: right;\n",
       "    }\n",
       "</style>\n",
       "<table border=\"1\" class=\"dataframe\">\n",
       "  <thead>\n",
       "    <tr style=\"text-align: right;\">\n",
       "      <th></th>\n",
       "      <th>Date</th>\n",
       "      <th>sangaiopen</th>\n",
       "    </tr>\n",
       "  </thead>\n",
       "  <tbody>\n",
       "    <tr>\n",
       "      <th>0</th>\n",
       "      <td>31-12-2010</td>\n",
       "      <td>2759.162109</td>\n",
       "    </tr>\n",
       "    <tr>\n",
       "      <th>1</th>\n",
       "      <td>04-01-2011</td>\n",
       "      <td>2825.329102</td>\n",
       "    </tr>\n",
       "    <tr>\n",
       "      <th>2</th>\n",
       "      <td>05-01-2011</td>\n",
       "      <td>2833.115967</td>\n",
       "    </tr>\n",
       "    <tr>\n",
       "      <th>3</th>\n",
       "      <td>06-01-2011</td>\n",
       "      <td>2838.435059</td>\n",
       "    </tr>\n",
       "    <tr>\n",
       "      <th>4</th>\n",
       "      <td>07-01-2011</td>\n",
       "      <td>2820.665039</td>\n",
       "    </tr>\n",
       "  </tbody>\n",
       "</table>\n",
       "</div>"
      ],
      "text/plain": [
       "         Date   sangaiopen\n",
       "0  31-12-2010  2759.162109\n",
       "1  04-01-2011  2825.329102\n",
       "2  05-01-2011  2833.115967\n",
       "3  06-01-2011  2838.435059\n",
       "4  07-01-2011  2820.665039"
      ]
     },
     "execution_count": 264,
     "metadata": {},
     "output_type": "execute_result"
    }
   ],
   "source": [
    "sanghai = pd.read_csv(\"F:/Data science and web devlopmemnt/value c assignments/assignment 3/sanghai.csv\")#china market index\n",
    "sanghai.head()\n",
    "#sanghai.shape"
   ]
  },
  {
   "cell_type": "code",
   "execution_count": 265,
   "metadata": {},
   "outputs": [
    {
     "data": {
      "text/plain": [
       "(2316, 2)"
      ]
     },
     "execution_count": 265,
     "metadata": {},
     "output_type": "execute_result"
    }
   ],
   "source": [
    "nifty = pd.read_csv(\"F:/Data science and web devlopmemnt/value c assignments/assignment 3/nifty50.csv\")#niftyopen\n",
    "nifty.head()\n",
    "nifty.shape"
   ]
  },
  {
   "cell_type": "raw",
   "metadata": {},
   "source": [
    "For analyzing countries index price which ultimately influence escorts open price.so we are merging the required featurs for analysing the best open price for respective company."
   ]
  },
  {
   "cell_type": "code",
   "execution_count": 266,
   "metadata": {},
   "outputs": [],
   "source": [
    "df1 = pd.merge(sbi,hongkong,how = \"inner\",on = \"Date\")\n",
    "df2 = pd.merge(df1,austrilia,how = \"inner\",on = \"Date\")\n",
    "df3 = pd.merge(df2,nifty,how = \"inner\",on = \"Date\")\n",
    "df4 = pd.merge(df3,nikkie,how = \"inner\",on = \"Date\")\n",
    "df5 = pd.merge(df4,sanghai,how = \"inner\",on = \"Date\")"
   ]
  },
  {
   "cell_type": "code",
   "execution_count": 267,
   "metadata": {},
   "outputs": [],
   "source": [
    "sbi_main = df5 #changing the variable name"
   ]
  },
  {
   "cell_type": "code",
   "execution_count": 268,
   "metadata": {},
   "outputs": [
    {
     "data": {
      "text/html": [
       "<div>\n",
       "<style scoped>\n",
       "    .dataframe tbody tr th:only-of-type {\n",
       "        vertical-align: middle;\n",
       "    }\n",
       "\n",
       "    .dataframe tbody tr th {\n",
       "        vertical-align: top;\n",
       "    }\n",
       "\n",
       "    .dataframe thead th {\n",
       "        text-align: right;\n",
       "    }\n",
       "</style>\n",
       "<table border=\"1\" class=\"dataframe\">\n",
       "  <thead>\n",
       "    <tr style=\"text-align: right;\">\n",
       "      <th></th>\n",
       "      <th>Date</th>\n",
       "      <th>SBIOpen</th>\n",
       "      <th>SBIAdj Close</th>\n",
       "      <th>sangaiclose</th>\n",
       "      <th>aust close</th>\n",
       "      <th>hangsangclose</th>\n",
       "      <th>nkkiesclose</th>\n",
       "      <th>nifty50 close</th>\n",
       "      <th>usclose</th>\n",
       "      <th>hangopen</th>\n",
       "      <th>austopen</th>\n",
       "      <th>niftyopen</th>\n",
       "      <th>nikkiesopen</th>\n",
       "      <th>sangaiopen</th>\n",
       "    </tr>\n",
       "  </thead>\n",
       "  <tbody>\n",
       "    <tr>\n",
       "      <th>0</th>\n",
       "      <td>04-01-2011</td>\n",
       "      <td>283.440002</td>\n",
       "      <td>135.278580</td>\n",
       "      <td>2808.076904</td>\n",
       "      <td>4742.500000</td>\n",
       "      <td>23436.05078</td>\n",
       "      <td>10380.76953</td>\n",
       "      <td>6157.600098</td>\n",
       "      <td>2691.520020</td>\n",
       "      <td>23477.31055</td>\n",
       "      <td>4758.299805</td>\n",
       "      <td>6172.750000</td>\n",
       "      <td>10352.19043</td>\n",
       "      <td>2825.329102</td>\n",
       "    </tr>\n",
       "    <tr>\n",
       "      <th>1</th>\n",
       "      <td>05-01-2011</td>\n",
       "      <td>273.500000</td>\n",
       "      <td>131.132156</td>\n",
       "      <td>2852.647949</td>\n",
       "      <td>4714.899902</td>\n",
       "      <td>23668.48047</td>\n",
       "      <td>10529.75977</td>\n",
       "      <td>6146.350098</td>\n",
       "      <td>2681.250000</td>\n",
       "      <td>23650.17969</td>\n",
       "      <td>4738.600098</td>\n",
       "      <td>6141.350098</td>\n",
       "      <td>10387.95020</td>\n",
       "      <td>2833.115967</td>\n",
       "    </tr>\n",
       "    <tr>\n",
       "      <th>2</th>\n",
       "      <td>06-01-2011</td>\n",
       "      <td>271.399994</td>\n",
       "      <td>129.099701</td>\n",
       "      <td>2839.220947</td>\n",
       "      <td>4725.000000</td>\n",
       "      <td>23757.82031</td>\n",
       "      <td>10541.04004</td>\n",
       "      <td>6079.799805</td>\n",
       "      <td>2702.199951</td>\n",
       "      <td>23861.22070</td>\n",
       "      <td>4717.700195</td>\n",
       "      <td>6107.000000</td>\n",
       "      <td>10477.51953</td>\n",
       "      <td>2838.435059</td>\n",
       "    </tr>\n",
       "    <tr>\n",
       "      <th>3</th>\n",
       "      <td>07-01-2011</td>\n",
       "      <td>261.790009</td>\n",
       "      <td>125.705864</td>\n",
       "      <td>2824.197021</td>\n",
       "      <td>4705.000000</td>\n",
       "      <td>23786.30078</td>\n",
       "      <td>10510.67969</td>\n",
       "      <td>6048.250000</td>\n",
       "      <td>2709.889893</td>\n",
       "      <td>23744.02930</td>\n",
       "      <td>4717.799805</td>\n",
       "      <td>6030.899902</td>\n",
       "      <td>10506.71973</td>\n",
       "      <td>2820.665039</td>\n",
       "    </tr>\n",
       "    <tr>\n",
       "      <th>4</th>\n",
       "      <td>11-01-2011</td>\n",
       "      <td>254.625000</td>\n",
       "      <td>122.096336</td>\n",
       "      <td>2791.809082</td>\n",
       "      <td>4710.700195</td>\n",
       "      <td>23527.25977</td>\n",
       "      <td>10589.75977</td>\n",
       "      <td>5762.850098</td>\n",
       "      <td>2707.800049</td>\n",
       "      <td>23606.75977</td>\n",
       "      <td>4709.299805</td>\n",
       "      <td>5767.950195</td>\n",
       "      <td>10484.62012</td>\n",
       "      <td>2783.476074</td>\n",
       "    </tr>\n",
       "  </tbody>\n",
       "</table>\n",
       "</div>"
      ],
      "text/plain": [
       "         Date     SBIOpen  SBIAdj Close  sangaiclose   aust close  \\\n",
       "0  04-01-2011  283.440002    135.278580  2808.076904  4742.500000   \n",
       "1  05-01-2011  273.500000    131.132156  2852.647949  4714.899902   \n",
       "2  06-01-2011  271.399994    129.099701  2839.220947  4725.000000   \n",
       "3  07-01-2011  261.790009    125.705864  2824.197021  4705.000000   \n",
       "4  11-01-2011  254.625000    122.096336  2791.809082  4710.700195   \n",
       "\n",
       "   hangsangclose  nkkiesclose  nifty50 close      usclose     hangopen  \\\n",
       "0    23436.05078  10380.76953    6157.600098  2691.520020  23477.31055   \n",
       "1    23668.48047  10529.75977    6146.350098  2681.250000  23650.17969   \n",
       "2    23757.82031  10541.04004    6079.799805  2702.199951  23861.22070   \n",
       "3    23786.30078  10510.67969    6048.250000  2709.889893  23744.02930   \n",
       "4    23527.25977  10589.75977    5762.850098  2707.800049  23606.75977   \n",
       "\n",
       "      austopen    niftyopen  nikkiesopen   sangaiopen  \n",
       "0  4758.299805  6172.750000  10352.19043  2825.329102  \n",
       "1  4738.600098  6141.350098  10387.95020  2833.115967  \n",
       "2  4717.700195  6107.000000  10477.51953  2838.435059  \n",
       "3  4717.799805  6030.899902  10506.71973  2820.665039  \n",
       "4  4709.299805  5767.950195  10484.62012  2783.476074  "
      ]
     },
     "execution_count": 268,
     "metadata": {},
     "output_type": "execute_result"
    }
   ],
   "source": [
    "sbi_main.head()"
   ]
  },
  {
   "cell_type": "code",
   "execution_count": 269,
   "metadata": {},
   "outputs": [
    {
     "data": {
      "text/html": [
       "<div>\n",
       "<style scoped>\n",
       "    .dataframe tbody tr th:only-of-type {\n",
       "        vertical-align: middle;\n",
       "    }\n",
       "\n",
       "    .dataframe tbody tr th {\n",
       "        vertical-align: top;\n",
       "    }\n",
       "\n",
       "    .dataframe thead th {\n",
       "        text-align: right;\n",
       "    }\n",
       "</style>\n",
       "<table border=\"1\" class=\"dataframe\">\n",
       "  <thead>\n",
       "    <tr style=\"text-align: right;\">\n",
       "      <th></th>\n",
       "      <th>Date</th>\n",
       "      <th>SBIOpen</th>\n",
       "      <th>SBIAdj Close</th>\n",
       "      <th>sangaiclose</th>\n",
       "      <th>aust close</th>\n",
       "      <th>hangsangclose</th>\n",
       "      <th>nkkiesclose</th>\n",
       "      <th>nifty50 close</th>\n",
       "      <th>usclose</th>\n",
       "      <th>hangopen</th>\n",
       "      <th>austopen</th>\n",
       "      <th>niftyopen</th>\n",
       "      <th>nikkiesopen</th>\n",
       "      <th>sangaiopen</th>\n",
       "    </tr>\n",
       "  </thead>\n",
       "  <tbody>\n",
       "    <tr>\n",
       "      <th>1954</th>\n",
       "      <td>23-03-2020</td>\n",
       "      <td>190.000000</td>\n",
       "      <td>209.850006</td>\n",
       "      <td>2870.342041</td>\n",
       "      <td>6690.600098</td>\n",
       "      <td>22805.07031</td>\n",
       "      <td>17011.52930</td>\n",
       "      <td>8745.450195</td>\n",
       "      <td>6879.520020</td>\n",
       "      <td>21696.13086</td>\n",
       "      <td>4753.899902</td>\n",
       "      <td>7945.700195</td>\n",
       "      <td>16570.57031</td>\n",
       "      <td>2677.590088</td>\n",
       "    </tr>\n",
       "    <tr>\n",
       "      <th>1955</th>\n",
       "      <td>24-03-2020</td>\n",
       "      <td>190.949997</td>\n",
       "      <td>181.600006</td>\n",
       "      <td>2868.458984</td>\n",
       "      <td>6733.500000</td>\n",
       "      <td>21696.13086</td>\n",
       "      <td>16726.55078</td>\n",
       "      <td>7610.250000</td>\n",
       "      <td>6860.669922</td>\n",
       "      <td>22497.57031</td>\n",
       "      <td>4546.000000</td>\n",
       "      <td>7848.299805</td>\n",
       "      <td>17206.88086</td>\n",
       "      <td>2703.019043</td>\n",
       "    </tr>\n",
       "    <tr>\n",
       "      <th>1956</th>\n",
       "      <td>25-03-2020</td>\n",
       "      <td>178.000000</td>\n",
       "      <td>183.199997</td>\n",
       "      <td>2875.417969</td>\n",
       "      <td>6735.700195</td>\n",
       "      <td>22663.49023</td>\n",
       "      <td>16552.83008</td>\n",
       "      <td>7801.049805</td>\n",
       "      <td>7417.859863</td>\n",
       "      <td>23255.91016</td>\n",
       "      <td>4735.700195</td>\n",
       "      <td>7735.149902</td>\n",
       "      <td>18446.80078</td>\n",
       "      <td>2775.302979</td>\n",
       "    </tr>\n",
       "    <tr>\n",
       "      <th>1957</th>\n",
       "      <td>26-03-2020</td>\n",
       "      <td>191.550003</td>\n",
       "      <td>189.899994</td>\n",
       "      <td>2898.575928</td>\n",
       "      <td>6826.399902</td>\n",
       "      <td>23527.18945</td>\n",
       "      <td>16887.77930</td>\n",
       "      <td>8317.849609</td>\n",
       "      <td>7384.299805</td>\n",
       "      <td>23604.83008</td>\n",
       "      <td>4998.100098</td>\n",
       "      <td>8451.000000</td>\n",
       "      <td>19234.76953</td>\n",
       "      <td>2761.895996</td>\n",
       "    </tr>\n",
       "    <tr>\n",
       "      <th>1958</th>\n",
       "      <td>27-03-2020</td>\n",
       "      <td>NaN</td>\n",
       "      <td>192.750000</td>\n",
       "      <td>2883.738037</td>\n",
       "      <td>6817.600098</td>\n",
       "      <td>23352.33984</td>\n",
       "      <td>18092.34961</td>\n",
       "      <td>8641.450195</td>\n",
       "      <td>7797.540039</td>\n",
       "      <td>23768.41016</td>\n",
       "      <td>5113.299805</td>\n",
       "      <td>8949.099609</td>\n",
       "      <td>19021.97070</td>\n",
       "      <td>2792.983887</td>\n",
       "    </tr>\n",
       "  </tbody>\n",
       "</table>\n",
       "</div>"
      ],
      "text/plain": [
       "            Date     SBIOpen  SBIAdj Close  sangaiclose   aust close  \\\n",
       "1954  23-03-2020  190.000000    209.850006  2870.342041  6690.600098   \n",
       "1955  24-03-2020  190.949997    181.600006  2868.458984  6733.500000   \n",
       "1956  25-03-2020  178.000000    183.199997  2875.417969  6735.700195   \n",
       "1957  26-03-2020  191.550003    189.899994  2898.575928  6826.399902   \n",
       "1958  27-03-2020         NaN    192.750000  2883.738037  6817.600098   \n",
       "\n",
       "      hangsangclose  nkkiesclose  nifty50 close      usclose     hangopen  \\\n",
       "1954    22805.07031  17011.52930    8745.450195  6879.520020  21696.13086   \n",
       "1955    21696.13086  16726.55078    7610.250000  6860.669922  22497.57031   \n",
       "1956    22663.49023  16552.83008    7801.049805  7417.859863  23255.91016   \n",
       "1957    23527.18945  16887.77930    8317.849609  7384.299805  23604.83008   \n",
       "1958    23352.33984  18092.34961    8641.450195  7797.540039  23768.41016   \n",
       "\n",
       "         austopen    niftyopen  nikkiesopen   sangaiopen  \n",
       "1954  4753.899902  7945.700195  16570.57031  2677.590088  \n",
       "1955  4546.000000  7848.299805  17206.88086  2703.019043  \n",
       "1956  4735.700195  7735.149902  18446.80078  2775.302979  \n",
       "1957  4998.100098  8451.000000  19234.76953  2761.895996  \n",
       "1958  5113.299805  8949.099609  19021.97070  2792.983887  "
      ]
     },
     "execution_count": 269,
     "metadata": {},
     "output_type": "execute_result"
    }
   ],
   "source": [
    "sbi_main.tail()# checking the tail"
   ]
  },
  {
   "cell_type": "code",
   "execution_count": 270,
   "metadata": {},
   "outputs": [
    {
     "data": {
      "text/plain": [
       "(1959, 14)"
      ]
     },
     "execution_count": 270,
     "metadata": {},
     "output_type": "execute_result"
    }
   ],
   "source": [
    "##Lets check the shape.\n",
    "sbi_main.shape#After adding all  features in our Dataset, we get 1959 rows & 14 featurs. "
   ]
  },
  {
   "cell_type": "code",
   "execution_count": 271,
   "metadata": {},
   "outputs": [
    {
     "name": "stdout",
     "output_type": "stream",
     "text": [
      "<class 'pandas.core.frame.DataFrame'>\n",
      "Int64Index: 1959 entries, 0 to 1958\n",
      "Data columns (total 14 columns):\n",
      " #   Column         Non-Null Count  Dtype  \n",
      "---  ------         --------------  -----  \n",
      " 0   Date           1959 non-null   object \n",
      " 1   SBIOpen        1958 non-null   float64\n",
      " 2   SBIAdj Close   1953 non-null   float64\n",
      " 3   sangaiclose    1958 non-null   float64\n",
      " 4   aust close     1954 non-null   float64\n",
      " 5   hangsangclose  1953 non-null   float64\n",
      " 6   nkkiesclose    1945 non-null   float64\n",
      " 7   nifty50 close  1944 non-null   float64\n",
      " 8   usclose        1959 non-null   float64\n",
      " 9   hangopen       1955 non-null   float64\n",
      " 10  austopen       1955 non-null   float64\n",
      " 11  niftyopen      1951 non-null   float64\n",
      " 12  nikkiesopen    1944 non-null   float64\n",
      " 13  sangaiopen     1958 non-null   float64\n",
      "dtypes: float64(13), object(1)\n",
      "memory usage: 229.6+ KB\n"
     ]
    }
   ],
   "source": [
    "sbi_main.info()# checking the data types"
   ]
  },
  {
   "cell_type": "markdown",
   "metadata": {},
   "source": [
    "The ESCORTS_MAIN NAMED IS THE FINAL DATASET FOR WHICH ANALYSIS NEEDS TO BE DONE WHICH HAS 1959 ROWS AND 14 COLUMNS FROM WHICH STOCKOPEN IS THE DEPENDENT VARIABLE AND REMAINING ARE INDEPEDENT VARIABLE.\n",
    "ALSO IT CAN BE CLEARLY SEEN THAT DATE IS OBJECT DATATYPE AND REMAINING ARE FLOAT TYPE SO DATE MUST BE CONVERTED TO DATETIME VARIABLE."
   ]
  },
  {
   "cell_type": "markdown",
   "metadata": {},
   "source": [
    "CONVERTING DATE OBJECT TO DATETIME VARIABLE FOLLOWED BY SPLITTING THEM INTO DAY MONTH AND YEAR AS MACHINE LEARNING MODEL CANNIT LEARN OBJECT DATATYE."
   ]
  },
  {
   "cell_type": "code",
   "execution_count": 272,
   "metadata": {},
   "outputs": [],
   "source": [
    "#converting to datetime variable.\n",
    "sbi_main[\"Date\"] = pd.to_datetime(sbi_main[\"Date\"])#converted to datetime variable\n",
    "sbi_main[\"month\"] = sbi_main[\"Date\"].dt.month\n",
    "sbi_main[\"day\"] = sbi_main[\"Date\"].dt.day\n",
    "sbi_main[\"year\"] = sbi_main[\"Date\"].dt.year"
   ]
  },
  {
   "cell_type": "code",
   "execution_count": 273,
   "metadata": {},
   "outputs": [
    {
     "data": {
      "text/html": [
       "<div>\n",
       "<style scoped>\n",
       "    .dataframe tbody tr th:only-of-type {\n",
       "        vertical-align: middle;\n",
       "    }\n",
       "\n",
       "    .dataframe tbody tr th {\n",
       "        vertical-align: top;\n",
       "    }\n",
       "\n",
       "    .dataframe thead th {\n",
       "        text-align: right;\n",
       "    }\n",
       "</style>\n",
       "<table border=\"1\" class=\"dataframe\">\n",
       "  <thead>\n",
       "    <tr style=\"text-align: right;\">\n",
       "      <th></th>\n",
       "      <th>Date</th>\n",
       "      <th>SBIOpen</th>\n",
       "      <th>SBIAdj Close</th>\n",
       "      <th>sangaiclose</th>\n",
       "      <th>aust close</th>\n",
       "      <th>hangsangclose</th>\n",
       "      <th>nkkiesclose</th>\n",
       "      <th>nifty50 close</th>\n",
       "      <th>usclose</th>\n",
       "      <th>hangopen</th>\n",
       "      <th>austopen</th>\n",
       "      <th>niftyopen</th>\n",
       "      <th>nikkiesopen</th>\n",
       "      <th>sangaiopen</th>\n",
       "      <th>month</th>\n",
       "      <th>day</th>\n",
       "      <th>year</th>\n",
       "    </tr>\n",
       "  </thead>\n",
       "  <tbody>\n",
       "    <tr>\n",
       "      <th>0</th>\n",
       "      <td>2011-04-01</td>\n",
       "      <td>283.440002</td>\n",
       "      <td>135.278580</td>\n",
       "      <td>2808.076904</td>\n",
       "      <td>4742.500000</td>\n",
       "      <td>23436.05078</td>\n",
       "      <td>10380.76953</td>\n",
       "      <td>6157.600098</td>\n",
       "      <td>2691.520020</td>\n",
       "      <td>23477.31055</td>\n",
       "      <td>4758.299805</td>\n",
       "      <td>6172.750000</td>\n",
       "      <td>10352.19043</td>\n",
       "      <td>2825.329102</td>\n",
       "      <td>4</td>\n",
       "      <td>1</td>\n",
       "      <td>2011</td>\n",
       "    </tr>\n",
       "    <tr>\n",
       "      <th>1</th>\n",
       "      <td>2011-05-01</td>\n",
       "      <td>273.500000</td>\n",
       "      <td>131.132156</td>\n",
       "      <td>2852.647949</td>\n",
       "      <td>4714.899902</td>\n",
       "      <td>23668.48047</td>\n",
       "      <td>10529.75977</td>\n",
       "      <td>6146.350098</td>\n",
       "      <td>2681.250000</td>\n",
       "      <td>23650.17969</td>\n",
       "      <td>4738.600098</td>\n",
       "      <td>6141.350098</td>\n",
       "      <td>10387.95020</td>\n",
       "      <td>2833.115967</td>\n",
       "      <td>5</td>\n",
       "      <td>1</td>\n",
       "      <td>2011</td>\n",
       "    </tr>\n",
       "    <tr>\n",
       "      <th>2</th>\n",
       "      <td>2011-06-01</td>\n",
       "      <td>271.399994</td>\n",
       "      <td>129.099701</td>\n",
       "      <td>2839.220947</td>\n",
       "      <td>4725.000000</td>\n",
       "      <td>23757.82031</td>\n",
       "      <td>10541.04004</td>\n",
       "      <td>6079.799805</td>\n",
       "      <td>2702.199951</td>\n",
       "      <td>23861.22070</td>\n",
       "      <td>4717.700195</td>\n",
       "      <td>6107.000000</td>\n",
       "      <td>10477.51953</td>\n",
       "      <td>2838.435059</td>\n",
       "      <td>6</td>\n",
       "      <td>1</td>\n",
       "      <td>2011</td>\n",
       "    </tr>\n",
       "    <tr>\n",
       "      <th>3</th>\n",
       "      <td>2011-07-01</td>\n",
       "      <td>261.790009</td>\n",
       "      <td>125.705864</td>\n",
       "      <td>2824.197021</td>\n",
       "      <td>4705.000000</td>\n",
       "      <td>23786.30078</td>\n",
       "      <td>10510.67969</td>\n",
       "      <td>6048.250000</td>\n",
       "      <td>2709.889893</td>\n",
       "      <td>23744.02930</td>\n",
       "      <td>4717.799805</td>\n",
       "      <td>6030.899902</td>\n",
       "      <td>10506.71973</td>\n",
       "      <td>2820.665039</td>\n",
       "      <td>7</td>\n",
       "      <td>1</td>\n",
       "      <td>2011</td>\n",
       "    </tr>\n",
       "    <tr>\n",
       "      <th>4</th>\n",
       "      <td>2011-11-01</td>\n",
       "      <td>254.625000</td>\n",
       "      <td>122.096336</td>\n",
       "      <td>2791.809082</td>\n",
       "      <td>4710.700195</td>\n",
       "      <td>23527.25977</td>\n",
       "      <td>10589.75977</td>\n",
       "      <td>5762.850098</td>\n",
       "      <td>2707.800049</td>\n",
       "      <td>23606.75977</td>\n",
       "      <td>4709.299805</td>\n",
       "      <td>5767.950195</td>\n",
       "      <td>10484.62012</td>\n",
       "      <td>2783.476074</td>\n",
       "      <td>11</td>\n",
       "      <td>1</td>\n",
       "      <td>2011</td>\n",
       "    </tr>\n",
       "  </tbody>\n",
       "</table>\n",
       "</div>"
      ],
      "text/plain": [
       "        Date     SBIOpen  SBIAdj Close  sangaiclose   aust close  \\\n",
       "0 2011-04-01  283.440002    135.278580  2808.076904  4742.500000   \n",
       "1 2011-05-01  273.500000    131.132156  2852.647949  4714.899902   \n",
       "2 2011-06-01  271.399994    129.099701  2839.220947  4725.000000   \n",
       "3 2011-07-01  261.790009    125.705864  2824.197021  4705.000000   \n",
       "4 2011-11-01  254.625000    122.096336  2791.809082  4710.700195   \n",
       "\n",
       "   hangsangclose  nkkiesclose  nifty50 close      usclose     hangopen  \\\n",
       "0    23436.05078  10380.76953    6157.600098  2691.520020  23477.31055   \n",
       "1    23668.48047  10529.75977    6146.350098  2681.250000  23650.17969   \n",
       "2    23757.82031  10541.04004    6079.799805  2702.199951  23861.22070   \n",
       "3    23786.30078  10510.67969    6048.250000  2709.889893  23744.02930   \n",
       "4    23527.25977  10589.75977    5762.850098  2707.800049  23606.75977   \n",
       "\n",
       "      austopen    niftyopen  nikkiesopen   sangaiopen  month  day  year  \n",
       "0  4758.299805  6172.750000  10352.19043  2825.329102      4    1  2011  \n",
       "1  4738.600098  6141.350098  10387.95020  2833.115967      5    1  2011  \n",
       "2  4717.700195  6107.000000  10477.51953  2838.435059      6    1  2011  \n",
       "3  4717.799805  6030.899902  10506.71973  2820.665039      7    1  2011  \n",
       "4  4709.299805  5767.950195  10484.62012  2783.476074     11    1  2011  "
      ]
     },
     "execution_count": 273,
     "metadata": {},
     "output_type": "execute_result"
    }
   ],
   "source": [
    "sbi_main.head()#checking head of escots dataset."
   ]
  },
  {
   "cell_type": "code",
   "execution_count": 274,
   "metadata": {},
   "outputs": [
    {
     "data": {
      "text/plain": [
       "Index(['Date', 'SBIOpen', 'SBIAdj Close', 'sangaiclose', 'aust close',\n",
       "       'hangsangclose', 'nkkiesclose', 'nifty50 close', 'usclose', 'hangopen',\n",
       "       'austopen', 'niftyopen', 'nikkiesopen', 'sangaiopen', 'month', 'day',\n",
       "       'year'],\n",
       "      dtype='object')"
      ]
     },
     "execution_count": 274,
     "metadata": {},
     "output_type": "execute_result"
    }
   ],
   "source": [
    "sbi_main.columns#checking columns name in final dataset."
   ]
  },
  {
   "cell_type": "markdown",
   "metadata": {},
   "source": [
    "# ANALYSING MISSING VALUES:"
   ]
  },
  {
   "cell_type": "code",
   "execution_count": 118,
   "metadata": {},
   "outputs": [
    {
     "data": {
      "text/plain": [
       "Date              0\n",
       "SBIOpen           1\n",
       "SBIAdj Close      6\n",
       "sangaiclose       1\n",
       "aust close        5\n",
       "hangsangclose     6\n",
       "nkkiesclose      14\n",
       "nifty50 close    15\n",
       "usclose           0\n",
       "hangopen          4\n",
       "austopen          4\n",
       "niftyopen         8\n",
       "nikkiesopen      15\n",
       "sangaiopen        1\n",
       "month             0\n",
       "day               0\n",
       "year              0\n",
       "dtype: int64"
      ]
     },
     "execution_count": 118,
     "metadata": {},
     "output_type": "execute_result"
    }
   ],
   "source": [
    "#checking missing values.\n",
    "sbi_main.isnull().sum()"
   ]
  },
  {
   "cell_type": "code",
   "execution_count": 119,
   "metadata": {},
   "outputs": [
    {
     "data": {
      "text/plain": [
       "Index(['Date', 'SBIOpen', 'SBIAdj Close', 'sangaiclose', 'aust close',\n",
       "       'hangsangclose', 'nkkiesclose', 'nifty50 close', 'usclose', 'hangopen',\n",
       "       'austopen', 'niftyopen', 'nikkiesopen', 'sangaiopen', 'month', 'day',\n",
       "       'year'],\n",
       "      dtype='object')"
      ]
     },
     "execution_count": 119,
     "metadata": {},
     "output_type": "execute_result"
    }
   ],
   "source": [
    "sbi_main.columns"
   ]
  },
  {
   "cell_type": "markdown",
   "metadata": {},
   "source": [
    "# Missing value treatment using feature engine."
   ]
  },
  {
   "cell_type": "code",
   "execution_count": 275,
   "metadata": {},
   "outputs": [],
   "source": [
    "imputer = mdi.MeanMedianImputer(imputation_method='median')"
   ]
  },
  {
   "cell_type": "code",
   "execution_count": 276,
   "metadata": {},
   "outputs": [
    {
     "data": {
      "text/plain": [
       "MeanMedianImputer(imputation_method='median',\n",
       "                  variables=['SBIOpen', 'SBIAdj Close', 'sangaiclose',\n",
       "                             'aust close', 'hangsangclose', 'nkkiesclose',\n",
       "                             'nifty50 close', 'usclose', 'hangopen', 'austopen',\n",
       "                             'niftyopen', 'nikkiesopen', 'sangaiopen', 'month',\n",
       "                             'day', 'year'])"
      ]
     },
     "execution_count": 276,
     "metadata": {},
     "output_type": "execute_result"
    }
   ],
   "source": [
    "imputer.fit(sbi_main)"
   ]
  },
  {
   "cell_type": "markdown",
   "metadata": {},
   "source": [
    "# The median values for all the features are given below."
   ]
  },
  {
   "cell_type": "code",
   "execution_count": 277,
   "metadata": {},
   "outputs": [
    {
     "data": {
      "text/plain": [
       "{'SBIOpen': 254.25,\n",
       " 'SBIAdj Close': 244.74298100000001,\n",
       " 'sangaiclose': 2866.9239505,\n",
       " 'aust close': 5423.5,\n",
       " 'hangsangclose': 23422.51953,\n",
       " 'nkkiesclose': 17210.05078,\n",
       " 'nifty50 close': 8130.0,\n",
       " 'usclose': 4862.569824,\n",
       " 'hangopen': 23406.99023,\n",
       " 'austopen': 5431.299805,\n",
       " 'niftyopen': 8134.350098000001,\n",
       " 'nikkiesopen': 17154.570314999997,\n",
       " 'sangaiopen': 2854.325073,\n",
       " 'month': 7.0,\n",
       " 'day': 16.0,\n",
       " 'year': 2015.0}"
      ]
     },
     "execution_count": 277,
     "metadata": {},
     "output_type": "execute_result"
    }
   ],
   "source": [
    "imputer.imputer_dict_"
   ]
  },
  {
   "cell_type": "code",
   "execution_count": 278,
   "metadata": {},
   "outputs": [
    {
     "data": {
      "text/plain": [
       "Index(['Date', 'SBIOpen', 'SBIAdj Close', 'sangaiclose', 'aust close',\n",
       "       'hangsangclose', 'nkkiesclose', 'nifty50 close', 'usclose', 'hangopen',\n",
       "       'austopen', 'niftyopen', 'nikkiesopen', 'sangaiopen', 'month', 'day',\n",
       "       'year'],\n",
       "      dtype='object')"
      ]
     },
     "execution_count": 278,
     "metadata": {},
     "output_type": "execute_result"
    }
   ],
   "source": [
    "sbi_main = imputer.transform(sbi_main)\n",
    "sbi_main.columns"
   ]
  },
  {
   "cell_type": "code",
   "execution_count": 279,
   "metadata": {},
   "outputs": [
    {
     "data": {
      "text/plain": [
       "Date             0\n",
       "SBIOpen          0\n",
       "SBIAdj Close     0\n",
       "sangaiclose      0\n",
       "aust close       0\n",
       "hangsangclose    0\n",
       "nkkiesclose      0\n",
       "nifty50 close    0\n",
       "usclose          0\n",
       "hangopen         0\n",
       "austopen         0\n",
       "niftyopen        0\n",
       "nikkiesopen      0\n",
       "sangaiopen       0\n",
       "month            0\n",
       "day              0\n",
       "year             0\n",
       "dtype: int64"
      ]
     },
     "execution_count": 279,
     "metadata": {},
     "output_type": "execute_result"
    }
   ],
   "source": [
    "# checking missing values after filling.\n",
    "sbi_main.isnull().sum()"
   ]
  },
  {
   "cell_type": "markdown",
   "metadata": {},
   "source": [
    "# Five point statistical summary to get the general insight of the data."
   ]
  },
  {
   "cell_type": "code",
   "execution_count": 125,
   "metadata": {},
   "outputs": [
    {
     "data": {
      "text/html": [
       "<div>\n",
       "<style scoped>\n",
       "    .dataframe tbody tr th:only-of-type {\n",
       "        vertical-align: middle;\n",
       "    }\n",
       "\n",
       "    .dataframe tbody tr th {\n",
       "        vertical-align: top;\n",
       "    }\n",
       "\n",
       "    .dataframe thead th {\n",
       "        text-align: right;\n",
       "    }\n",
       "</style>\n",
       "<table border=\"1\" class=\"dataframe\">\n",
       "  <thead>\n",
       "    <tr style=\"text-align: right;\">\n",
       "      <th></th>\n",
       "      <th>count</th>\n",
       "      <th>mean</th>\n",
       "      <th>std</th>\n",
       "      <th>min</th>\n",
       "      <th>25%</th>\n",
       "      <th>50%</th>\n",
       "      <th>75%</th>\n",
       "      <th>max</th>\n",
       "    </tr>\n",
       "  </thead>\n",
       "  <tbody>\n",
       "    <tr>\n",
       "      <th>SBIOpen</th>\n",
       "      <td>1959.0</td>\n",
       "      <td>249.513586</td>\n",
       "      <td>48.359044</td>\n",
       "      <td>147.000000</td>\n",
       "      <td>213.564995</td>\n",
       "      <td>254.250000</td>\n",
       "      <td>284.000000</td>\n",
       "      <td>371.950012</td>\n",
       "    </tr>\n",
       "    <tr>\n",
       "      <th>SBIAdj Close</th>\n",
       "      <td>1959.0</td>\n",
       "      <td>221.407007</td>\n",
       "      <td>72.888827</td>\n",
       "      <td>86.890831</td>\n",
       "      <td>145.810929</td>\n",
       "      <td>244.742981</td>\n",
       "      <td>280.225006</td>\n",
       "      <td>372.399994</td>\n",
       "    </tr>\n",
       "    <tr>\n",
       "      <th>sangaiclose</th>\n",
       "      <td>1959.0</td>\n",
       "      <td>2804.002373</td>\n",
       "      <td>543.623881</td>\n",
       "      <td>1950.011963</td>\n",
       "      <td>2318.767578</td>\n",
       "      <td>2866.923951</td>\n",
       "      <td>3137.102417</td>\n",
       "      <td>5166.350098</td>\n",
       "    </tr>\n",
       "    <tr>\n",
       "      <th>aust close</th>\n",
       "      <td>1959.0</td>\n",
       "      <td>5382.026543</td>\n",
       "      <td>684.173622</td>\n",
       "      <td>3863.899902</td>\n",
       "      <td>4943.250000</td>\n",
       "      <td>5423.500000</td>\n",
       "      <td>5842.199951</td>\n",
       "      <td>6864.000000</td>\n",
       "    </tr>\n",
       "    <tr>\n",
       "      <th>hangsangclose</th>\n",
       "      <td>1959.0</td>\n",
       "      <td>24135.903289</td>\n",
       "      <td>3249.934644</td>\n",
       "      <td>16250.269530</td>\n",
       "      <td>21882.315430</td>\n",
       "      <td>23422.519530</td>\n",
       "      <td>26715.884765</td>\n",
       "      <td>33154.121090</td>\n",
       "    </tr>\n",
       "    <tr>\n",
       "      <th>nkkiesclose</th>\n",
       "      <td>1959.0</td>\n",
       "      <td>16650.755545</td>\n",
       "      <td>4794.100487</td>\n",
       "      <td>8160.009766</td>\n",
       "      <td>13385.875000</td>\n",
       "      <td>17210.050780</td>\n",
       "      <td>20659.785155</td>\n",
       "      <td>24270.619140</td>\n",
       "    </tr>\n",
       "    <tr>\n",
       "      <th>nifty50 close</th>\n",
       "      <td>1959.0</td>\n",
       "      <td>8131.170092</td>\n",
       "      <td>2213.182738</td>\n",
       "      <td>4544.200195</td>\n",
       "      <td>5899.675049</td>\n",
       "      <td>8130.000000</td>\n",
       "      <td>10213.274905</td>\n",
       "      <td>12362.299810</td>\n",
       "    </tr>\n",
       "    <tr>\n",
       "      <th>usclose</th>\n",
       "      <td>1959.0</td>\n",
       "      <td>5112.634385</td>\n",
       "      <td>1862.035934</td>\n",
       "      <td>2341.840088</td>\n",
       "      <td>3324.775024</td>\n",
       "      <td>4862.569824</td>\n",
       "      <td>6803.064942</td>\n",
       "      <td>9817.179688</td>\n",
       "    </tr>\n",
       "    <tr>\n",
       "      <th>hangopen</th>\n",
       "      <td>1959.0</td>\n",
       "      <td>24143.795518</td>\n",
       "      <td>3271.920917</td>\n",
       "      <td>17634.419920</td>\n",
       "      <td>21894.229490</td>\n",
       "      <td>23406.990230</td>\n",
       "      <td>26771.230470</td>\n",
       "      <td>33335.480470</td>\n",
       "    </tr>\n",
       "    <tr>\n",
       "      <th>austopen</th>\n",
       "      <td>1959.0</td>\n",
       "      <td>5402.051758</td>\n",
       "      <td>707.957968</td>\n",
       "      <td>3890.199951</td>\n",
       "      <td>4932.050049</td>\n",
       "      <td>5431.299805</td>\n",
       "      <td>5861.949951</td>\n",
       "      <td>7144.600098</td>\n",
       "    </tr>\n",
       "    <tr>\n",
       "      <th>niftyopen</th>\n",
       "      <td>1959.0</td>\n",
       "      <td>8138.073435</td>\n",
       "      <td>2220.938997</td>\n",
       "      <td>4623.149902</td>\n",
       "      <td>5896.875000</td>\n",
       "      <td>8134.350098</td>\n",
       "      <td>10220.975100</td>\n",
       "      <td>12430.500000</td>\n",
       "    </tr>\n",
       "    <tr>\n",
       "      <th>nikkiesopen</th>\n",
       "      <td>1959.0</td>\n",
       "      <td>16614.629001</td>\n",
       "      <td>4795.962080</td>\n",
       "      <td>8138.189941</td>\n",
       "      <td>13311.589845</td>\n",
       "      <td>17154.570315</td>\n",
       "      <td>20599.400395</td>\n",
       "      <td>24103.449220</td>\n",
       "    </tr>\n",
       "    <tr>\n",
       "      <th>sangaiopen</th>\n",
       "      <td>1959.0</td>\n",
       "      <td>2799.500521</td>\n",
       "      <td>547.650455</td>\n",
       "      <td>1935.515991</td>\n",
       "      <td>2315.536987</td>\n",
       "      <td>2854.325073</td>\n",
       "      <td>3143.557496</td>\n",
       "      <td>5174.417969</td>\n",
       "    </tr>\n",
       "    <tr>\n",
       "      <th>month</th>\n",
       "      <td>1959.0</td>\n",
       "      <td>6.610516</td>\n",
       "      <td>3.405954</td>\n",
       "      <td>1.000000</td>\n",
       "      <td>4.000000</td>\n",
       "      <td>7.000000</td>\n",
       "      <td>10.000000</td>\n",
       "      <td>12.000000</td>\n",
       "    </tr>\n",
       "    <tr>\n",
       "      <th>day</th>\n",
       "      <td>1959.0</td>\n",
       "      <td>16.052067</td>\n",
       "      <td>8.716471</td>\n",
       "      <td>1.000000</td>\n",
       "      <td>8.000000</td>\n",
       "      <td>16.000000</td>\n",
       "      <td>23.000000</td>\n",
       "      <td>31.000000</td>\n",
       "    </tr>\n",
       "    <tr>\n",
       "      <th>year</th>\n",
       "      <td>1959.0</td>\n",
       "      <td>2015.154671</td>\n",
       "      <td>2.656937</td>\n",
       "      <td>2011.000000</td>\n",
       "      <td>2013.000000</td>\n",
       "      <td>2015.000000</td>\n",
       "      <td>2017.000000</td>\n",
       "      <td>2020.000000</td>\n",
       "    </tr>\n",
       "  </tbody>\n",
       "</table>\n",
       "</div>"
      ],
      "text/plain": [
       "                count          mean          std           min           25%  \\\n",
       "SBIOpen        1959.0    249.513586    48.359044    147.000000    213.564995   \n",
       "SBIAdj Close   1959.0    221.407007    72.888827     86.890831    145.810929   \n",
       "sangaiclose    1959.0   2804.002373   543.623881   1950.011963   2318.767578   \n",
       "aust close     1959.0   5382.026543   684.173622   3863.899902   4943.250000   \n",
       "hangsangclose  1959.0  24135.903289  3249.934644  16250.269530  21882.315430   \n",
       "nkkiesclose    1959.0  16650.755545  4794.100487   8160.009766  13385.875000   \n",
       "nifty50 close  1959.0   8131.170092  2213.182738   4544.200195   5899.675049   \n",
       "usclose        1959.0   5112.634385  1862.035934   2341.840088   3324.775024   \n",
       "hangopen       1959.0  24143.795518  3271.920917  17634.419920  21894.229490   \n",
       "austopen       1959.0   5402.051758   707.957968   3890.199951   4932.050049   \n",
       "niftyopen      1959.0   8138.073435  2220.938997   4623.149902   5896.875000   \n",
       "nikkiesopen    1959.0  16614.629001  4795.962080   8138.189941  13311.589845   \n",
       "sangaiopen     1959.0   2799.500521   547.650455   1935.515991   2315.536987   \n",
       "month          1959.0      6.610516     3.405954      1.000000      4.000000   \n",
       "day            1959.0     16.052067     8.716471      1.000000      8.000000   \n",
       "year           1959.0   2015.154671     2.656937   2011.000000   2013.000000   \n",
       "\n",
       "                        50%           75%           max  \n",
       "SBIOpen          254.250000    284.000000    371.950012  \n",
       "SBIAdj Close     244.742981    280.225006    372.399994  \n",
       "sangaiclose     2866.923951   3137.102417   5166.350098  \n",
       "aust close      5423.500000   5842.199951   6864.000000  \n",
       "hangsangclose  23422.519530  26715.884765  33154.121090  \n",
       "nkkiesclose    17210.050780  20659.785155  24270.619140  \n",
       "nifty50 close   8130.000000  10213.274905  12362.299810  \n",
       "usclose         4862.569824   6803.064942   9817.179688  \n",
       "hangopen       23406.990230  26771.230470  33335.480470  \n",
       "austopen        5431.299805   5861.949951   7144.600098  \n",
       "niftyopen       8134.350098  10220.975100  12430.500000  \n",
       "nikkiesopen    17154.570315  20599.400395  24103.449220  \n",
       "sangaiopen      2854.325073   3143.557496   5174.417969  \n",
       "month              7.000000     10.000000     12.000000  \n",
       "day               16.000000     23.000000     31.000000  \n",
       "year            2015.000000   2017.000000   2020.000000  "
      ]
     },
     "execution_count": 125,
     "metadata": {},
     "output_type": "execute_result"
    }
   ],
   "source": [
    "sbi_main.describe().T #checking staticstical result of each feature. "
   ]
  },
  {
   "cell_type": "markdown",
   "metadata": {},
   "source": [
    "# Outlier Analysis:"
   ]
  },
  {
   "cell_type": "code",
   "execution_count": 280,
   "metadata": {},
   "outputs": [
    {
     "data": {
      "text/plain": [
       "<matplotlib.axes._subplots.AxesSubplot at 0x20090e2aa88>"
      ]
     },
     "execution_count": 280,
     "metadata": {},
     "output_type": "execute_result"
    },
    {
     "data": {
      "image/png": "[encoded data removed]",
      "text/plain": [
       "<Figure size 1440x720 with 1 Axes>"
      ]
     },
     "metadata": {
      "needs_background": "light"
     },
     "output_type": "display_data"
    }
   ],
   "source": [
    "sbi_main.boxplot(figsize=(20,10)) #checking outlier"
   ]
  },
  {
   "cell_type": "code",
   "execution_count": 281,
   "metadata": {},
   "outputs": [],
   "source": [
    "#HENCE THE ABOVE PLOT SHOWS THAT SANGAICLOSE & SANGAIOPEN  FEATURE HAVING OUTLIER. SO WE HAVE TO TREAT THEM."
   ]
  },
  {
   "cell_type": "code",
   "execution_count": 282,
   "metadata": {},
   "outputs": [],
   "source": [
    "sbi_main = sbi_main.drop([\"Date\"],axis = 1)"
   ]
  },
  {
   "cell_type": "markdown",
   "metadata": {},
   "source": [
    "# AS IT CAN BE CLEARLY SEEN THAT OUTLIERS ARE PRESENT IN SOME FEATURES, SINCE LINEAR MODELS ARE SUSEPTABLE TO OUTLIERS WHICH CAN HAVE NEGATIVE IMPACT ON FINDING BEST FIT LINE SO IT IS ALWAYS BETTER TO REMOVE OUTLIERS."
   ]
  },
  {
   "cell_type": "code",
   "execution_count": 284,
   "metadata": {},
   "outputs": [],
   "source": [
    "def outlierhandle(col):\n",
    "    sorted(col)\n",
    "    Q1,Q3=np.percentile(col,[25,75])\n",
    "    IQR=Q3-Q1\n",
    "    lower_range= Q1-(1.5 * IQR)\n",
    "    upper_range= Q3+(1.5 * IQR)\n",
    "    return lower_range, upper_range"
   ]
  },
  {
   "cell_type": "code",
   "execution_count": 285,
   "metadata": {},
   "outputs": [],
   "source": [
    "for column in sbi_main.columns:\n",
    "    lr,ur=outlierhandle(sbi_main[column])\n",
    "    sbi_main[column]=np.where(sbi_main[column]>ur,ur,sbi_main[column])\n",
    "    sbi_main[column]=np.where(sbi_main[column]<lr,lr,sbi_main[column])"
   ]
  },
  {
   "cell_type": "code",
   "execution_count": 286,
   "metadata": {},
   "outputs": [
    {
     "data": {
      "text/plain": [
       "<matplotlib.axes._subplots.AxesSubplot at 0x200913d0288>"
      ]
     },
     "execution_count": 286,
     "metadata": {},
     "output_type": "execute_result"
    },
    {
     "data": {
      "image/png": "[encoded data removed]",
      "text/plain": [
       "<Figure size 1080x576 with 1 Axes>"
      ]
     },
     "metadata": {
      "needs_background": "light"
     },
     "output_type": "display_data"
    }
   ],
   "source": [
    "sbi_main.boxplot(figsize=(15,8))# After treating outlier."
   ]
  },
  {
   "cell_type": "code",
   "execution_count": 287,
   "metadata": {},
   "outputs": [
    {
     "data": {
      "text/html": [
       "<div>\n",
       "<style scoped>\n",
       "    .dataframe tbody tr th:only-of-type {\n",
       "        vertical-align: middle;\n",
       "    }\n",
       "\n",
       "    .dataframe tbody tr th {\n",
       "        vertical-align: top;\n",
       "    }\n",
       "\n",
       "    .dataframe thead th {\n",
       "        text-align: right;\n",
       "    }\n",
       "</style>\n",
       "<table border=\"1\" class=\"dataframe\">\n",
       "  <thead>\n",
       "    <tr style=\"text-align: right;\">\n",
       "      <th></th>\n",
       "      <th>SBIOpen</th>\n",
       "      <th>SBIAdj Close</th>\n",
       "      <th>sangaiclose</th>\n",
       "      <th>aust close</th>\n",
       "      <th>hangsangclose</th>\n",
       "      <th>nkkiesclose</th>\n",
       "      <th>nifty50 close</th>\n",
       "      <th>usclose</th>\n",
       "      <th>hangopen</th>\n",
       "      <th>austopen</th>\n",
       "      <th>niftyopen</th>\n",
       "      <th>nikkiesopen</th>\n",
       "      <th>sangaiopen</th>\n",
       "      <th>month</th>\n",
       "      <th>day</th>\n",
       "      <th>year</th>\n",
       "    </tr>\n",
       "  </thead>\n",
       "  <tbody>\n",
       "    <tr>\n",
       "      <th>0</th>\n",
       "      <td>283.440002</td>\n",
       "      <td>135.278580</td>\n",
       "      <td>2808.076904</td>\n",
       "      <td>4742.500000</td>\n",
       "      <td>23436.05078</td>\n",
       "      <td>10380.76953</td>\n",
       "      <td>6157.600098</td>\n",
       "      <td>2691.520020</td>\n",
       "      <td>23477.31055</td>\n",
       "      <td>4758.299805</td>\n",
       "      <td>6172.750000</td>\n",
       "      <td>10352.19043</td>\n",
       "      <td>2825.329102</td>\n",
       "      <td>4.0</td>\n",
       "      <td>1.0</td>\n",
       "      <td>2011.0</td>\n",
       "    </tr>\n",
       "    <tr>\n",
       "      <th>1</th>\n",
       "      <td>273.500000</td>\n",
       "      <td>131.132156</td>\n",
       "      <td>2852.647949</td>\n",
       "      <td>4714.899902</td>\n",
       "      <td>23668.48047</td>\n",
       "      <td>10529.75977</td>\n",
       "      <td>6146.350098</td>\n",
       "      <td>2681.250000</td>\n",
       "      <td>23650.17969</td>\n",
       "      <td>4738.600098</td>\n",
       "      <td>6141.350098</td>\n",
       "      <td>10387.95020</td>\n",
       "      <td>2833.115967</td>\n",
       "      <td>5.0</td>\n",
       "      <td>1.0</td>\n",
       "      <td>2011.0</td>\n",
       "    </tr>\n",
       "    <tr>\n",
       "      <th>2</th>\n",
       "      <td>271.399994</td>\n",
       "      <td>129.099701</td>\n",
       "      <td>2839.220947</td>\n",
       "      <td>4725.000000</td>\n",
       "      <td>23757.82031</td>\n",
       "      <td>10541.04004</td>\n",
       "      <td>6079.799805</td>\n",
       "      <td>2702.199951</td>\n",
       "      <td>23861.22070</td>\n",
       "      <td>4717.700195</td>\n",
       "      <td>6107.000000</td>\n",
       "      <td>10477.51953</td>\n",
       "      <td>2838.435059</td>\n",
       "      <td>6.0</td>\n",
       "      <td>1.0</td>\n",
       "      <td>2011.0</td>\n",
       "    </tr>\n",
       "    <tr>\n",
       "      <th>3</th>\n",
       "      <td>261.790009</td>\n",
       "      <td>125.705864</td>\n",
       "      <td>2824.197021</td>\n",
       "      <td>4705.000000</td>\n",
       "      <td>23786.30078</td>\n",
       "      <td>10510.67969</td>\n",
       "      <td>6048.250000</td>\n",
       "      <td>2709.889893</td>\n",
       "      <td>23744.02930</td>\n",
       "      <td>4717.799805</td>\n",
       "      <td>6030.899902</td>\n",
       "      <td>10506.71973</td>\n",
       "      <td>2820.665039</td>\n",
       "      <td>7.0</td>\n",
       "      <td>1.0</td>\n",
       "      <td>2011.0</td>\n",
       "    </tr>\n",
       "    <tr>\n",
       "      <th>4</th>\n",
       "      <td>254.625000</td>\n",
       "      <td>122.096336</td>\n",
       "      <td>2791.809082</td>\n",
       "      <td>4710.700195</td>\n",
       "      <td>23527.25977</td>\n",
       "      <td>10589.75977</td>\n",
       "      <td>5762.850098</td>\n",
       "      <td>2707.800049</td>\n",
       "      <td>23606.75977</td>\n",
       "      <td>4709.299805</td>\n",
       "      <td>5767.950195</td>\n",
       "      <td>10484.62012</td>\n",
       "      <td>2783.476074</td>\n",
       "      <td>11.0</td>\n",
       "      <td>1.0</td>\n",
       "      <td>2011.0</td>\n",
       "    </tr>\n",
       "  </tbody>\n",
       "</table>\n",
       "</div>"
      ],
      "text/plain": [
       "      SBIOpen  SBIAdj Close  sangaiclose   aust close  hangsangclose  \\\n",
       "0  283.440002    135.278580  2808.076904  4742.500000    23436.05078   \n",
       "1  273.500000    131.132156  2852.647949  4714.899902    23668.48047   \n",
       "2  271.399994    129.099701  2839.220947  4725.000000    23757.82031   \n",
       "3  261.790009    125.705864  2824.197021  4705.000000    23786.30078   \n",
       "4  254.625000    122.096336  2791.809082  4710.700195    23527.25977   \n",
       "\n",
       "   nkkiesclose  nifty50 close      usclose     hangopen     austopen  \\\n",
       "0  10380.76953    6157.600098  2691.520020  23477.31055  4758.299805   \n",
       "1  10529.75977    6146.350098  2681.250000  23650.17969  4738.600098   \n",
       "2  10541.04004    6079.799805  2702.199951  23861.22070  4717.700195   \n",
       "3  10510.67969    6048.250000  2709.889893  23744.02930  4717.799805   \n",
       "4  10589.75977    5762.850098  2707.800049  23606.75977  4709.299805   \n",
       "\n",
       "     niftyopen  nikkiesopen   sangaiopen  month  day    year  \n",
       "0  6172.750000  10352.19043  2825.329102    4.0  1.0  2011.0  \n",
       "1  6141.350098  10387.95020  2833.115967    5.0  1.0  2011.0  \n",
       "2  6107.000000  10477.51953  2838.435059    6.0  1.0  2011.0  \n",
       "3  6030.899902  10506.71973  2820.665039    7.0  1.0  2011.0  \n",
       "4  5767.950195  10484.62012  2783.476074   11.0  1.0  2011.0  "
      ]
     },
     "execution_count": 287,
     "metadata": {},
     "output_type": "execute_result"
    }
   ],
   "source": [
    "sbi_main.head()"
   ]
  },
  {
   "cell_type": "code",
   "execution_count": 288,
   "metadata": {},
   "outputs": [
    {
     "data": {
      "text/plain": [
       "Index(['SBIOpen', 'SBIAdj Close', 'sangaiclose', 'aust close', 'hangsangclose',\n",
       "       'nkkiesclose', 'nifty50 close', 'usclose', 'hangopen', 'austopen',\n",
       "       'niftyopen', 'nikkiesopen', 'sangaiopen', 'month', 'day', 'year'],\n",
       "      dtype='object')"
      ]
     },
     "execution_count": 288,
     "metadata": {},
     "output_type": "execute_result"
    }
   ],
   "source": [
    "sbi_main.columns"
   ]
  },
  {
   "cell_type": "markdown",
   "metadata": {},
   "source": [
    " LETS DRAW SCATTERPLOT TO SEE THE RELEATIONSHIPS BETWEEN INDEPENDENT AND DEPENDENT VARIABLES."
   ]
  },
  {
   "cell_type": "code",
   "execution_count": 289,
   "metadata": {},
   "outputs": [],
   "source": [
    "#sns.pairplot(sbi_main,diag_kind='kde')"
   ]
  },
  {
   "cell_type": "markdown",
   "metadata": {},
   "source": [
    "# FEATURE SELECTION AND MODEL BUILDING"
   ]
  },
  {
   "cell_type": "markdown",
   "metadata": {},
   "source": [
    "LINEAR MODEL WILL BE BUILD FIRST AS MOST OF THE FEATURES ARE LINEARLY CORRELATED."
   ]
  },
  {
   "cell_type": "code",
   "execution_count": 300,
   "metadata": {},
   "outputs": [
    {
     "data": {
      "text/html": [
       "<div>\n",
       "<style scoped>\n",
       "    .dataframe tbody tr th:only-of-type {\n",
       "        vertical-align: middle;\n",
       "    }\n",
       "\n",
       "    .dataframe tbody tr th {\n",
       "        vertical-align: top;\n",
       "    }\n",
       "\n",
       "    .dataframe thead th {\n",
       "        text-align: right;\n",
       "    }\n",
       "</style>\n",
       "<table border=\"1\" class=\"dataframe\">\n",
       "  <thead>\n",
       "    <tr style=\"text-align: right;\">\n",
       "      <th></th>\n",
       "      <th>SBIOpen</th>\n",
       "      <th>SBIAdj Close</th>\n",
       "      <th>sangaiclose</th>\n",
       "      <th>aust close</th>\n",
       "      <th>hangsangclose</th>\n",
       "      <th>nkkiesclose</th>\n",
       "      <th>nifty50 close</th>\n",
       "      <th>usclose</th>\n",
       "      <th>hangopen</th>\n",
       "      <th>austopen</th>\n",
       "      <th>niftyopen</th>\n",
       "      <th>nikkiesopen</th>\n",
       "      <th>sangaiopen</th>\n",
       "      <th>month</th>\n",
       "      <th>day</th>\n",
       "      <th>year</th>\n",
       "    </tr>\n",
       "  </thead>\n",
       "  <tbody>\n",
       "    <tr>\n",
       "      <th>SBIOpen</th>\n",
       "      <td>1.000000</td>\n",
       "      <td>0.862280</td>\n",
       "      <td>0.568870</td>\n",
       "      <td>0.659622</td>\n",
       "      <td>0.720396</td>\n",
       "      <td>0.655148</td>\n",
       "      <td>0.769046</td>\n",
       "      <td>0.687082</td>\n",
       "      <td>0.725113</td>\n",
       "      <td>0.701454</td>\n",
       "      <td>0.771607</td>\n",
       "      <td>0.653091</td>\n",
       "      <td>0.553191</td>\n",
       "      <td>0.009851</td>\n",
       "      <td>-0.017068</td>\n",
       "      <td>0.623221</td>\n",
       "    </tr>\n",
       "    <tr>\n",
       "      <th>SBIAdj Close</th>\n",
       "      <td>0.862280</td>\n",
       "      <td>1.000000</td>\n",
       "      <td>0.602733</td>\n",
       "      <td>0.844806</td>\n",
       "      <td>0.757759</td>\n",
       "      <td>0.894253</td>\n",
       "      <td>0.925670</td>\n",
       "      <td>0.867107</td>\n",
       "      <td>0.758015</td>\n",
       "      <td>0.867647</td>\n",
       "      <td>0.923787</td>\n",
       "      <td>0.891838</td>\n",
       "      <td>0.589843</td>\n",
       "      <td>0.058156</td>\n",
       "      <td>-0.005644</td>\n",
       "      <td>0.858777</td>\n",
       "    </tr>\n",
       "    <tr>\n",
       "      <th>sangaiclose</th>\n",
       "      <td>0.568870</td>\n",
       "      <td>0.602733</td>\n",
       "      <td>1.000000</td>\n",
       "      <td>0.457233</td>\n",
       "      <td>0.477039</td>\n",
       "      <td>0.593489</td>\n",
       "      <td>0.522358</td>\n",
       "      <td>0.450547</td>\n",
       "      <td>0.475990</td>\n",
       "      <td>0.460020</td>\n",
       "      <td>0.524630</td>\n",
       "      <td>0.590949</td>\n",
       "      <td>0.936966</td>\n",
       "      <td>-0.051148</td>\n",
       "      <td>-0.013473</td>\n",
       "      <td>0.474495</td>\n",
       "    </tr>\n",
       "    <tr>\n",
       "      <th>aust close</th>\n",
       "      <td>0.659622</td>\n",
       "      <td>0.844806</td>\n",
       "      <td>0.457233</td>\n",
       "      <td>1.000000</td>\n",
       "      <td>0.778563</td>\n",
       "      <td>0.908585</td>\n",
       "      <td>0.900108</td>\n",
       "      <td>0.914102</td>\n",
       "      <td>0.780474</td>\n",
       "      <td>0.945352</td>\n",
       "      <td>0.902137</td>\n",
       "      <td>0.908733</td>\n",
       "      <td>0.461348</td>\n",
       "      <td>0.016846</td>\n",
       "      <td>-0.007647</td>\n",
       "      <td>0.891087</td>\n",
       "    </tr>\n",
       "    <tr>\n",
       "      <th>hangsangclose</th>\n",
       "      <td>0.720396</td>\n",
       "      <td>0.757759</td>\n",
       "      <td>0.477039</td>\n",
       "      <td>0.778563</td>\n",
       "      <td>1.000000</td>\n",
       "      <td>0.791346</td>\n",
       "      <td>0.821044</td>\n",
       "      <td>0.802716</td>\n",
       "      <td>0.988571</td>\n",
       "      <td>0.810904</td>\n",
       "      <td>0.823448</td>\n",
       "      <td>0.789236</td>\n",
       "      <td>0.505453</td>\n",
       "      <td>-0.038251</td>\n",
       "      <td>-0.026048</td>\n",
       "      <td>0.730449</td>\n",
       "    </tr>\n",
       "    <tr>\n",
       "      <th>nkkiesclose</th>\n",
       "      <td>0.655148</td>\n",
       "      <td>0.894253</td>\n",
       "      <td>0.593489</td>\n",
       "      <td>0.908585</td>\n",
       "      <td>0.791346</td>\n",
       "      <td>1.000000</td>\n",
       "      <td>0.926501</td>\n",
       "      <td>0.923849</td>\n",
       "      <td>0.791231</td>\n",
       "      <td>0.911908</td>\n",
       "      <td>0.929353</td>\n",
       "      <td>0.987083</td>\n",
       "      <td>0.608180</td>\n",
       "      <td>0.042434</td>\n",
       "      <td>-0.010678</td>\n",
       "      <td>0.921728</td>\n",
       "    </tr>\n",
       "    <tr>\n",
       "      <th>nifty50 close</th>\n",
       "      <td>0.769046</td>\n",
       "      <td>0.925670</td>\n",
       "      <td>0.522358</td>\n",
       "      <td>0.900108</td>\n",
       "      <td>0.821044</td>\n",
       "      <td>0.926501</td>\n",
       "      <td>1.000000</td>\n",
       "      <td>0.974355</td>\n",
       "      <td>0.821063</td>\n",
       "      <td>0.919701</td>\n",
       "      <td>0.993561</td>\n",
       "      <td>0.927866</td>\n",
       "      <td>0.527534</td>\n",
       "      <td>0.034309</td>\n",
       "      <td>-0.009943</td>\n",
       "      <td>0.952186</td>\n",
       "    </tr>\n",
       "    <tr>\n",
       "      <th>usclose</th>\n",
       "      <td>0.687082</td>\n",
       "      <td>0.867107</td>\n",
       "      <td>0.450547</td>\n",
       "      <td>0.914102</td>\n",
       "      <td>0.802716</td>\n",
       "      <td>0.923849</td>\n",
       "      <td>0.974355</td>\n",
       "      <td>1.000000</td>\n",
       "      <td>0.802868</td>\n",
       "      <td>0.920281</td>\n",
       "      <td>0.975657</td>\n",
       "      <td>0.925328</td>\n",
       "      <td>0.473383</td>\n",
       "      <td>0.027152</td>\n",
       "      <td>-0.008286</td>\n",
       "      <td>0.971908</td>\n",
       "    </tr>\n",
       "    <tr>\n",
       "      <th>hangopen</th>\n",
       "      <td>0.725113</td>\n",
       "      <td>0.758015</td>\n",
       "      <td>0.475990</td>\n",
       "      <td>0.780474</td>\n",
       "      <td>0.988571</td>\n",
       "      <td>0.791231</td>\n",
       "      <td>0.821063</td>\n",
       "      <td>0.802868</td>\n",
       "      <td>1.000000</td>\n",
       "      <td>0.812793</td>\n",
       "      <td>0.823180</td>\n",
       "      <td>0.793164</td>\n",
       "      <td>0.516334</td>\n",
       "      <td>-0.040702</td>\n",
       "      <td>-0.026783</td>\n",
       "      <td>0.726710</td>\n",
       "    </tr>\n",
       "    <tr>\n",
       "      <th>austopen</th>\n",
       "      <td>0.701454</td>\n",
       "      <td>0.867647</td>\n",
       "      <td>0.460020</td>\n",
       "      <td>0.945352</td>\n",
       "      <td>0.810904</td>\n",
       "      <td>0.911908</td>\n",
       "      <td>0.919701</td>\n",
       "      <td>0.920281</td>\n",
       "      <td>0.812793</td>\n",
       "      <td>1.000000</td>\n",
       "      <td>0.922703</td>\n",
       "      <td>0.913831</td>\n",
       "      <td>0.460732</td>\n",
       "      <td>-0.002274</td>\n",
       "      <td>-0.014583</td>\n",
       "      <td>0.887839</td>\n",
       "    </tr>\n",
       "    <tr>\n",
       "      <th>niftyopen</th>\n",
       "      <td>0.771607</td>\n",
       "      <td>0.923787</td>\n",
       "      <td>0.524630</td>\n",
       "      <td>0.902137</td>\n",
       "      <td>0.823448</td>\n",
       "      <td>0.929353</td>\n",
       "      <td>0.993561</td>\n",
       "      <td>0.975657</td>\n",
       "      <td>0.823180</td>\n",
       "      <td>0.922703</td>\n",
       "      <td>1.000000</td>\n",
       "      <td>0.930108</td>\n",
       "      <td>0.529132</td>\n",
       "      <td>0.033532</td>\n",
       "      <td>-0.005867</td>\n",
       "      <td>0.953439</td>\n",
       "    </tr>\n",
       "    <tr>\n",
       "      <th>nikkiesopen</th>\n",
       "      <td>0.653091</td>\n",
       "      <td>0.891838</td>\n",
       "      <td>0.590949</td>\n",
       "      <td>0.908733</td>\n",
       "      <td>0.789236</td>\n",
       "      <td>0.987083</td>\n",
       "      <td>0.927866</td>\n",
       "      <td>0.925328</td>\n",
       "      <td>0.793164</td>\n",
       "      <td>0.913831</td>\n",
       "      <td>0.930108</td>\n",
       "      <td>1.000000</td>\n",
       "      <td>0.613041</td>\n",
       "      <td>0.035398</td>\n",
       "      <td>-0.000950</td>\n",
       "      <td>0.921165</td>\n",
       "    </tr>\n",
       "    <tr>\n",
       "      <th>sangaiopen</th>\n",
       "      <td>0.553191</td>\n",
       "      <td>0.589843</td>\n",
       "      <td>0.936966</td>\n",
       "      <td>0.461348</td>\n",
       "      <td>0.505453</td>\n",
       "      <td>0.608180</td>\n",
       "      <td>0.527534</td>\n",
       "      <td>0.473383</td>\n",
       "      <td>0.516334</td>\n",
       "      <td>0.460732</td>\n",
       "      <td>0.529132</td>\n",
       "      <td>0.613041</td>\n",
       "      <td>1.000000</td>\n",
       "      <td>-0.039029</td>\n",
       "      <td>-0.019631</td>\n",
       "      <td>0.482734</td>\n",
       "    </tr>\n",
       "    <tr>\n",
       "      <th>month</th>\n",
       "      <td>0.009851</td>\n",
       "      <td>0.058156</td>\n",
       "      <td>-0.051148</td>\n",
       "      <td>0.016846</td>\n",
       "      <td>-0.038251</td>\n",
       "      <td>0.042434</td>\n",
       "      <td>0.034309</td>\n",
       "      <td>0.027152</td>\n",
       "      <td>-0.040702</td>\n",
       "      <td>-0.002274</td>\n",
       "      <td>0.033532</td>\n",
       "      <td>0.035398</td>\n",
       "      <td>-0.039029</td>\n",
       "      <td>1.000000</td>\n",
       "      <td>-0.055416</td>\n",
       "      <td>-0.026751</td>\n",
       "    </tr>\n",
       "    <tr>\n",
       "      <th>day</th>\n",
       "      <td>-0.017068</td>\n",
       "      <td>-0.005644</td>\n",
       "      <td>-0.013473</td>\n",
       "      <td>-0.007647</td>\n",
       "      <td>-0.026048</td>\n",
       "      <td>-0.010678</td>\n",
       "      <td>-0.009943</td>\n",
       "      <td>-0.008286</td>\n",
       "      <td>-0.026783</td>\n",
       "      <td>-0.014583</td>\n",
       "      <td>-0.005867</td>\n",
       "      <td>-0.000950</td>\n",
       "      <td>-0.019631</td>\n",
       "      <td>-0.055416</td>\n",
       "      <td>1.000000</td>\n",
       "      <td>-0.025069</td>\n",
       "    </tr>\n",
       "    <tr>\n",
       "      <th>year</th>\n",
       "      <td>0.623221</td>\n",
       "      <td>0.858777</td>\n",
       "      <td>0.474495</td>\n",
       "      <td>0.891087</td>\n",
       "      <td>0.730449</td>\n",
       "      <td>0.921728</td>\n",
       "      <td>0.952186</td>\n",
       "      <td>0.971908</td>\n",
       "      <td>0.726710</td>\n",
       "      <td>0.887839</td>\n",
       "      <td>0.953439</td>\n",
       "      <td>0.921165</td>\n",
       "      <td>0.482734</td>\n",
       "      <td>-0.026751</td>\n",
       "      <td>-0.025069</td>\n",
       "      <td>1.000000</td>\n",
       "    </tr>\n",
       "  </tbody>\n",
       "</table>\n",
       "</div>"
      ],
      "text/plain": [
       "                SBIOpen  SBIAdj Close  sangaiclose  aust close  hangsangclose  \\\n",
       "SBIOpen        1.000000      0.862280     0.568870    0.659622       0.720396   \n",
       "SBIAdj Close   0.862280      1.000000     0.602733    0.844806       0.757759   \n",
       "sangaiclose    0.568870      0.602733     1.000000    0.457233       0.477039   \n",
       "aust close     0.659622      0.844806     0.457233    1.000000       0.778563   \n",
       "hangsangclose  0.720396      0.757759     0.477039    0.778563       1.000000   \n",
       "nkkiesclose    0.655148      0.894253     0.593489    0.908585       0.791346   \n",
       "nifty50 close  0.769046      0.925670     0.522358    0.900108       0.821044   \n",
       "usclose        0.687082      0.867107     0.450547    0.914102       0.802716   \n",
       "hangopen       0.725113      0.758015     0.475990    0.780474       0.988571   \n",
       "austopen       0.701454      0.867647     0.460020    0.945352       0.810904   \n",
       "niftyopen      0.771607      0.923787     0.524630    0.902137       0.823448   \n",
       "nikkiesopen    0.653091      0.891838     0.590949    0.908733       0.789236   \n",
       "sangaiopen     0.553191      0.589843     0.936966    0.461348       0.505453   \n",
       "month          0.009851      0.058156    -0.051148    0.016846      -0.038251   \n",
       "day           -0.017068     -0.005644    -0.013473   -0.007647      -0.026048   \n",
       "year           0.623221      0.858777     0.474495    0.891087       0.730449   \n",
       "\n",
       "               nkkiesclose  nifty50 close   usclose  hangopen  austopen  \\\n",
       "SBIOpen           0.655148       0.769046  0.687082  0.725113  0.701454   \n",
       "SBIAdj Close      0.894253       0.925670  0.867107  0.758015  0.867647   \n",
       "sangaiclose       0.593489       0.522358  0.450547  0.475990  0.460020   \n",
       "aust close        0.908585       0.900108  0.914102  0.780474  0.945352   \n",
       "hangsangclose     0.791346       0.821044  0.802716  0.988571  0.810904   \n",
       "nkkiesclose       1.000000       0.926501  0.923849  0.791231  0.911908   \n",
       "nifty50 close     0.926501       1.000000  0.974355  0.821063  0.919701   \n",
       "usclose           0.923849       0.974355  1.000000  0.802868  0.920281   \n",
       "hangopen          0.791231       0.821063  0.802868  1.000000  0.812793   \n",
       "austopen          0.911908       0.919701  0.920281  0.812793  1.000000   \n",
       "niftyopen         0.929353       0.993561  0.975657  0.823180  0.922703   \n",
       "nikkiesopen       0.987083       0.927866  0.925328  0.793164  0.913831   \n",
       "sangaiopen        0.608180       0.527534  0.473383  0.516334  0.460732   \n",
       "month             0.042434       0.034309  0.027152 -0.040702 -0.002274   \n",
       "day              -0.010678      -0.009943 -0.008286 -0.026783 -0.014583   \n",
       "year              0.921728       0.952186  0.971908  0.726710  0.887839   \n",
       "\n",
       "               niftyopen  nikkiesopen  sangaiopen     month       day  \\\n",
       "SBIOpen         0.771607     0.653091    0.553191  0.009851 -0.017068   \n",
       "SBIAdj Close    0.923787     0.891838    0.589843  0.058156 -0.005644   \n",
       "sangaiclose     0.524630     0.590949    0.936966 -0.051148 -0.013473   \n",
       "aust close      0.902137     0.908733    0.461348  0.016846 -0.007647   \n",
       "hangsangclose   0.823448     0.789236    0.505453 -0.038251 -0.026048   \n",
       "nkkiesclose     0.929353     0.987083    0.608180  0.042434 -0.010678   \n",
       "nifty50 close   0.993561     0.927866    0.527534  0.034309 -0.009943   \n",
       "usclose         0.975657     0.925328    0.473383  0.027152 -0.008286   \n",
       "hangopen        0.823180     0.793164    0.516334 -0.040702 -0.026783   \n",
       "austopen        0.922703     0.913831    0.460732 -0.002274 -0.014583   \n",
       "niftyopen       1.000000     0.930108    0.529132  0.033532 -0.005867   \n",
       "nikkiesopen     0.930108     1.000000    0.613041  0.035398 -0.000950   \n",
       "sangaiopen      0.529132     0.613041    1.000000 -0.039029 -0.019631   \n",
       "month           0.033532     0.035398   -0.039029  1.000000 -0.055416   \n",
       "day            -0.005867    -0.000950   -0.019631 -0.055416  1.000000   \n",
       "year            0.953439     0.921165    0.482734 -0.026751 -0.025069   \n",
       "\n",
       "                   year  \n",
       "SBIOpen        0.623221  \n",
       "SBIAdj Close   0.858777  \n",
       "sangaiclose    0.474495  \n",
       "aust close     0.891087  \n",
       "hangsangclose  0.730449  \n",
       "nkkiesclose    0.921728  \n",
       "nifty50 close  0.952186  \n",
       "usclose        0.971908  \n",
       "hangopen       0.726710  \n",
       "austopen       0.887839  \n",
       "niftyopen      0.953439  \n",
       "nikkiesopen    0.921165  \n",
       "sangaiopen     0.482734  \n",
       "month         -0.026751  \n",
       "day           -0.025069  \n",
       "year           1.000000  "
      ]
     },
     "execution_count": 300,
     "metadata": {},
     "output_type": "execute_result"
    }
   ],
   "source": [
    "correlation = sbi_main.corr() # checking the missing values.\n",
    "correlation"
   ]
  },
  {
   "cell_type": "code",
   "execution_count": 301,
   "metadata": {},
   "outputs": [
    {
     "data": {
      "text/plain": [
       "SBIOpen          1.000000\n",
       "SBIAdj Close     0.862280\n",
       "hangsangclose    0.720396\n",
       "nifty50 close    0.769046\n",
       "hangopen         0.725113\n",
       "austopen         0.701454\n",
       "niftyopen        0.771607\n",
       "Name: SBIOpen, dtype: float64"
      ]
     },
     "execution_count": 301,
     "metadata": {},
     "output_type": "execute_result"
    }
   ],
   "source": [
    "cortarget = abs(correlation[\"SBIOpen\"])\n",
    "features = cortarget[cortarget>0.7]\n",
    "features"
   ]
  },
  {
   "cell_type": "markdown",
   "metadata": {},
   "source": [
    "To avoid the problem of multicolinearity droping highely correlated independent features is better while bulding the model."
   ]
  },
  {
   "cell_type": "code",
   "execution_count": 302,
   "metadata": {},
   "outputs": [],
   "source": [
    "X=sbi_main.drop(['SBIOpen','sangaiopen','sangaiclose','nikkiesopen','hangopen','niftyopen','austopen','day','month','year'] , axis=1)"
   ]
  },
  {
   "cell_type": "code",
   "execution_count": 303,
   "metadata": {},
   "outputs": [
    {
     "data": {
      "text/plain": [
       "Index(['SBIAdj Close', 'aust close', 'hangsangclose', 'nkkiesclose',\n",
       "       'nifty50 close', 'usclose'],\n",
       "      dtype='object')"
      ]
     },
     "execution_count": 303,
     "metadata": {},
     "output_type": "execute_result"
    }
   ],
   "source": [
    "X.columns"
   ]
  },
  {
   "cell_type": "markdown",
   "metadata": {},
   "source": [
    "# Building Linear Regression\n",
    " spliting the data set into train & test."
   ]
  },
  {
   "cell_type": "code",
   "execution_count": 304,
   "metadata": {},
   "outputs": [],
   "source": [
    "from sklearn.linear_model import LinearRegression\n",
    "X_train, X_test, y_train, y_test = train_test_split(X,Y,test_size=0.2,random_state =20)"
   ]
  },
  {
   "cell_type": "markdown",
   "metadata": {},
   "source": [
    "# Finding the best hyperparameters using Grid search CV"
   ]
  },
  {
   "cell_type": "code",
   "execution_count": 305,
   "metadata": {},
   "outputs": [
    {
     "name": "stdout",
     "output_type": "stream",
     "text": [
      "r2 / variance :  0.8520955729425219\n",
      "bestparameters :  {'copy_X': True, 'fit_intercept': True, 'normalize': True}\n"
     ]
    }
   ],
   "source": [
    "model = LinearRegression()\n",
    "parameters = {'fit_intercept':[True,False], 'normalize':[True,False], 'copy_X':[True, False]}\n",
    "grid_cv = GridSearchCV(model,parameters, cv=10)\n",
    "grid_cv.fit(X_train, y_train)\n",
    "print(\"r2 / variance : \", grid_cv.best_score_)\n",
    "print(\"bestparameters : \", grid_cv.best_params_)\n"
   ]
  },
  {
   "cell_type": "code",
   "execution_count": 306,
   "metadata": {},
   "outputs": [],
   "source": [
    "model = LinearRegression(copy_X= True, fit_intercept= True, normalize= True)"
   ]
  },
  {
   "cell_type": "markdown",
   "metadata": {},
   "source": [
    "# Fitting the model with best hyperparameters"
   ]
  },
  {
   "cell_type": "code",
   "execution_count": 307,
   "metadata": {},
   "outputs": [
    {
     "data": {
      "text/plain": [
       "LinearRegression(copy_X=True, fit_intercept=True, n_jobs=None, normalize=True)"
      ]
     },
     "execution_count": 307,
     "metadata": {},
     "output_type": "execute_result"
    }
   ],
   "source": [
    "model.fit(X_train,y_train)"
   ]
  },
  {
   "cell_type": "code",
   "execution_count": 308,
   "metadata": {},
   "outputs": [
    {
     "data": {
      "text/html": [
       "<div>\n",
       "<style scoped>\n",
       "    .dataframe tbody tr th:only-of-type {\n",
       "        vertical-align: middle;\n",
       "    }\n",
       "\n",
       "    .dataframe tbody tr th {\n",
       "        vertical-align: top;\n",
       "    }\n",
       "\n",
       "    .dataframe thead th {\n",
       "        text-align: right;\n",
       "    }\n",
       "</style>\n",
       "<table border=\"1\" class=\"dataframe\">\n",
       "  <thead>\n",
       "    <tr style=\"text-align: right;\">\n",
       "      <th></th>\n",
       "      <th>SBIAdj Close</th>\n",
       "      <th>aust close</th>\n",
       "      <th>hangsangclose</th>\n",
       "      <th>nkkiesclose</th>\n",
       "      <th>nifty50 close</th>\n",
       "      <th>usclose</th>\n",
       "    </tr>\n",
       "  </thead>\n",
       "  <tbody>\n",
       "    <tr>\n",
       "      <th>1387</th>\n",
       "      <td>305.250000</td>\n",
       "      <td>5774.000000</td>\n",
       "      <td>27757.08984</td>\n",
       "      <td>19393.130860</td>\n",
       "      <td>10066.400390</td>\n",
       "      <td>6351.560059</td>\n",
       "    </tr>\n",
       "    <tr>\n",
       "      <th>714</th>\n",
       "      <td>259.142548</td>\n",
       "      <td>5420.399902</td>\n",
       "      <td>23319.16992</td>\n",
       "      <td>15115.799810</td>\n",
       "      <td>7402.250000</td>\n",
       "      <td>4125.810059</td>\n",
       "    </tr>\n",
       "    <tr>\n",
       "      <th>879</th>\n",
       "      <td>272.072418</td>\n",
       "      <td>5858.200195</td>\n",
       "      <td>24468.89063</td>\n",
       "      <td>19285.630860</td>\n",
       "      <td>8633.150391</td>\n",
       "      <td>4924.700195</td>\n",
       "    </tr>\n",
       "    <tr>\n",
       "      <th>957</th>\n",
       "      <td>264.160034</td>\n",
       "      <td>5632.700195</td>\n",
       "      <td>24497.98047</td>\n",
       "      <td>20664.439450</td>\n",
       "      <td>8589.799805</td>\n",
       "      <td>5146.410156</td>\n",
       "    </tr>\n",
       "    <tr>\n",
       "      <th>1118</th>\n",
       "      <td>185.366898</td>\n",
       "      <td>5004.500000</td>\n",
       "      <td>19719.28906</td>\n",
       "      <td>16757.349610</td>\n",
       "      <td>7887.799805</td>\n",
       "      <td>4809.879883</td>\n",
       "    </tr>\n",
       "    <tr>\n",
       "      <th>...</th>\n",
       "      <td>...</td>\n",
       "      <td>...</td>\n",
       "      <td>...</td>\n",
       "      <td>...</td>\n",
       "      <td>...</td>\n",
       "      <td>...</td>\n",
       "    </tr>\n",
       "    <tr>\n",
       "      <th>1710</th>\n",
       "      <td>300.399994</td>\n",
       "      <td>5928.200195</td>\n",
       "      <td>26755.63086</td>\n",
       "      <td>19561.960940</td>\n",
       "      <td>10737.599610</td>\n",
       "      <td>6905.919922</td>\n",
       "    </tr>\n",
       "    <tr>\n",
       "      <th>300</th>\n",
       "      <td>144.175018</td>\n",
       "      <td>4042.199951</td>\n",
       "      <td>19416.66992</td>\n",
       "      <td>8824.070313</td>\n",
       "      <td>5054.750000</td>\n",
       "      <td>2831.020020</td>\n",
       "    </tr>\n",
       "    <tr>\n",
       "      <th>867</th>\n",
       "      <td>285.499695</td>\n",
       "      <td>5569.500000</td>\n",
       "      <td>24887.43945</td>\n",
       "      <td>18665.109380</td>\n",
       "      <td>8767.250000</td>\n",
       "      <td>4635.240234</td>\n",
       "    </tr>\n",
       "    <tr>\n",
       "      <th>723</th>\n",
       "      <td>255.172318</td>\n",
       "      <td>5479.700195</td>\n",
       "      <td>23221.51953</td>\n",
       "      <td>15369.969730</td>\n",
       "      <td>7558.200195</td>\n",
       "      <td>4234.080078</td>\n",
       "    </tr>\n",
       "    <tr>\n",
       "      <th>1058</th>\n",
       "      <td>177.052277</td>\n",
       "      <td>5080.500000</td>\n",
       "      <td>18542.15039</td>\n",
       "      <td>17191.250000</td>\n",
       "      <td>7351.000000</td>\n",
       "      <td>4488.419922</td>\n",
       "    </tr>\n",
       "  </tbody>\n",
       "</table>\n",
       "<p>392 rows × 6 columns</p>\n",
       "</div>"
      ],
      "text/plain": [
       "      SBIAdj Close   aust close  hangsangclose   nkkiesclose  nifty50 close  \\\n",
       "1387    305.250000  5774.000000    27757.08984  19393.130860   10066.400390   \n",
       "714     259.142548  5420.399902    23319.16992  15115.799810    7402.250000   \n",
       "879     272.072418  5858.200195    24468.89063  19285.630860    8633.150391   \n",
       "957     264.160034  5632.700195    24497.98047  20664.439450    8589.799805   \n",
       "1118    185.366898  5004.500000    19719.28906  16757.349610    7887.799805   \n",
       "...            ...          ...            ...           ...            ...   \n",
       "1710    300.399994  5928.200195    26755.63086  19561.960940   10737.599610   \n",
       "300     144.175018  4042.199951    19416.66992   8824.070313    5054.750000   \n",
       "867     285.499695  5569.500000    24887.43945  18665.109380    8767.250000   \n",
       "723     255.172318  5479.700195    23221.51953  15369.969730    7558.200195   \n",
       "1058    177.052277  5080.500000    18542.15039  17191.250000    7351.000000   \n",
       "\n",
       "          usclose  \n",
       "1387  6351.560059  \n",
       "714   4125.810059  \n",
       "879   4924.700195  \n",
       "957   5146.410156  \n",
       "1118  4809.879883  \n",
       "...           ...  \n",
       "1710  6905.919922  \n",
       "300   2831.020020  \n",
       "867   4635.240234  \n",
       "723   4234.080078  \n",
       "1058  4488.419922  \n",
       "\n",
       "[392 rows x 6 columns]"
      ]
     },
     "execution_count": 308,
     "metadata": {},
     "output_type": "execute_result"
    }
   ],
   "source": [
    "X_test"
   ]
  },
  {
   "cell_type": "code",
   "execution_count": 309,
   "metadata": {},
   "outputs": [],
   "source": [
    "y_pred = model.predict(X_test)"
   ]
  },
  {
   "cell_type": "code",
   "execution_count": 311,
   "metadata": {},
   "outputs": [],
   "source": [
    "prediction =model.predict(X_train)"
   ]
  },
  {
   "cell_type": "code",
   "execution_count": 312,
   "metadata": {},
   "outputs": [
    {
     "name": "stdout",
     "output_type": "stream",
     "text": [
      "0.8582844517665689 0.8577393919656711\n"
     ]
    }
   ],
   "source": [
    "yhat = model.predict(X_train)\n",
    "SS_Residual = sum((y_train-yhat)**2)       \n",
    "SS_Total = sum((y_train-np.mean(y_train))**2)     \n",
    "r_squared = 1 - (float(SS_Residual))/SS_Total\n",
    "adjusted_r_squared = 1 - (1-r_squared)*(len(y_train)-1)/(len(y_train)-X_train.shape[1]-1)\n",
    "print (r_squared, adjusted_r_squared)"
   ]
  },
  {
   "cell_type": "code",
   "execution_count": 313,
   "metadata": {},
   "outputs": [],
   "source": [
    "y_pred = model.predict(X_test)"
   ]
  },
  {
   "cell_type": "code",
   "execution_count": 314,
   "metadata": {},
   "outputs": [],
   "source": [
    "X_test[\"predictedstock\"] = y_pred"
   ]
  },
  {
   "cell_type": "code",
   "execution_count": 315,
   "metadata": {},
   "outputs": [],
   "source": [
    "X_test[\"actualstock\"] = y_test"
   ]
  },
  {
   "cell_type": "code",
   "execution_count": 316,
   "metadata": {},
   "outputs": [
    {
     "data": {
      "text/html": [
       "<div>\n",
       "<style scoped>\n",
       "    .dataframe tbody tr th:only-of-type {\n",
       "        vertical-align: middle;\n",
       "    }\n",
       "\n",
       "    .dataframe tbody tr th {\n",
       "        vertical-align: top;\n",
       "    }\n",
       "\n",
       "    .dataframe thead th {\n",
       "        text-align: right;\n",
       "    }\n",
       "</style>\n",
       "<table border=\"1\" class=\"dataframe\">\n",
       "  <thead>\n",
       "    <tr style=\"text-align: right;\">\n",
       "      <th></th>\n",
       "      <th>SBIAdj Close</th>\n",
       "      <th>aust close</th>\n",
       "      <th>hangsangclose</th>\n",
       "      <th>nkkiesclose</th>\n",
       "      <th>nifty50 close</th>\n",
       "      <th>usclose</th>\n",
       "      <th>predictedstock</th>\n",
       "      <th>actualstock</th>\n",
       "    </tr>\n",
       "  </thead>\n",
       "  <tbody>\n",
       "    <tr>\n",
       "      <th>1387</th>\n",
       "      <td>305.250000</td>\n",
       "      <td>5774.000000</td>\n",
       "      <td>27757.08984</td>\n",
       "      <td>19393.130860</td>\n",
       "      <td>10066.400390</td>\n",
       "      <td>6351.560059</td>\n",
       "      <td>318.981320</td>\n",
       "      <td>305.799988</td>\n",
       "    </tr>\n",
       "    <tr>\n",
       "      <th>714</th>\n",
       "      <td>259.142548</td>\n",
       "      <td>5420.399902</td>\n",
       "      <td>23319.16992</td>\n",
       "      <td>15115.799810</td>\n",
       "      <td>7402.250000</td>\n",
       "      <td>4125.810059</td>\n",
       "      <td>288.363094</td>\n",
       "      <td>268.450012</td>\n",
       "    </tr>\n",
       "    <tr>\n",
       "      <th>879</th>\n",
       "      <td>272.072418</td>\n",
       "      <td>5858.200195</td>\n",
       "      <td>24468.89063</td>\n",
       "      <td>19285.630860</td>\n",
       "      <td>8633.150391</td>\n",
       "      <td>4924.700195</td>\n",
       "      <td>273.545676</td>\n",
       "      <td>283.899994</td>\n",
       "    </tr>\n",
       "    <tr>\n",
       "      <th>957</th>\n",
       "      <td>264.160034</td>\n",
       "      <td>5632.700195</td>\n",
       "      <td>24497.98047</td>\n",
       "      <td>20664.439450</td>\n",
       "      <td>8589.799805</td>\n",
       "      <td>5146.410156</td>\n",
       "      <td>256.196293</td>\n",
       "      <td>268.700012</td>\n",
       "    </tr>\n",
       "    <tr>\n",
       "      <th>1118</th>\n",
       "      <td>185.366898</td>\n",
       "      <td>5004.500000</td>\n",
       "      <td>19719.28906</td>\n",
       "      <td>16757.349610</td>\n",
       "      <td>7887.799805</td>\n",
       "      <td>4809.879883</td>\n",
       "      <td>195.156475</td>\n",
       "      <td>185.399994</td>\n",
       "    </tr>\n",
       "    <tr>\n",
       "      <th>...</th>\n",
       "      <td>...</td>\n",
       "      <td>...</td>\n",
       "      <td>...</td>\n",
       "      <td>...</td>\n",
       "      <td>...</td>\n",
       "      <td>...</td>\n",
       "      <td>...</td>\n",
       "      <td>...</td>\n",
       "    </tr>\n",
       "    <tr>\n",
       "      <th>1710</th>\n",
       "      <td>300.399994</td>\n",
       "      <td>5928.200195</td>\n",
       "      <td>26755.63086</td>\n",
       "      <td>19561.960940</td>\n",
       "      <td>10737.599610</td>\n",
       "      <td>6905.919922</td>\n",
       "      <td>308.750191</td>\n",
       "      <td>302.000000</td>\n",
       "    </tr>\n",
       "    <tr>\n",
       "      <th>300</th>\n",
       "      <td>144.175018</td>\n",
       "      <td>4042.199951</td>\n",
       "      <td>19416.66992</td>\n",
       "      <td>8824.070313</td>\n",
       "      <td>5054.750000</td>\n",
       "      <td>2831.020020</td>\n",
       "      <td>219.179181</td>\n",
       "      <td>216.845001</td>\n",
       "    </tr>\n",
       "    <tr>\n",
       "      <th>867</th>\n",
       "      <td>285.499695</td>\n",
       "      <td>5569.500000</td>\n",
       "      <td>24887.43945</td>\n",
       "      <td>18665.109380</td>\n",
       "      <td>8767.250000</td>\n",
       "      <td>4635.240234</td>\n",
       "      <td>292.493246</td>\n",
       "      <td>297.000000</td>\n",
       "    </tr>\n",
       "    <tr>\n",
       "      <th>723</th>\n",
       "      <td>255.172318</td>\n",
       "      <td>5479.700195</td>\n",
       "      <td>23221.51953</td>\n",
       "      <td>15369.969730</td>\n",
       "      <td>7558.200195</td>\n",
       "      <td>4234.080078</td>\n",
       "      <td>282.640566</td>\n",
       "      <td>264.700012</td>\n",
       "    </tr>\n",
       "    <tr>\n",
       "      <th>1058</th>\n",
       "      <td>177.052277</td>\n",
       "      <td>5080.500000</td>\n",
       "      <td>18542.15039</td>\n",
       "      <td>17191.250000</td>\n",
       "      <td>7351.000000</td>\n",
       "      <td>4488.419922</td>\n",
       "      <td>177.953703</td>\n",
       "      <td>182.149994</td>\n",
       "    </tr>\n",
       "  </tbody>\n",
       "</table>\n",
       "<p>392 rows × 8 columns</p>\n",
       "</div>"
      ],
      "text/plain": [
       "      SBIAdj Close   aust close  hangsangclose   nkkiesclose  nifty50 close  \\\n",
       "1387    305.250000  5774.000000    27757.08984  19393.130860   10066.400390   \n",
       "714     259.142548  5420.399902    23319.16992  15115.799810    7402.250000   \n",
       "879     272.072418  5858.200195    24468.89063  19285.630860    8633.150391   \n",
       "957     264.160034  5632.700195    24497.98047  20664.439450    8589.799805   \n",
       "1118    185.366898  5004.500000    19719.28906  16757.349610    7887.799805   \n",
       "...            ...          ...            ...           ...            ...   \n",
       "1710    300.399994  5928.200195    26755.63086  19561.960940   10737.599610   \n",
       "300     144.175018  4042.199951    19416.66992   8824.070313    5054.750000   \n",
       "867     285.499695  5569.500000    24887.43945  18665.109380    8767.250000   \n",
       "723     255.172318  5479.700195    23221.51953  15369.969730    7558.200195   \n",
       "1058    177.052277  5080.500000    18542.15039  17191.250000    7351.000000   \n",
       "\n",
       "          usclose  predictedstock  actualstock  \n",
       "1387  6351.560059      318.981320   305.799988  \n",
       "714   4125.810059      288.363094   268.450012  \n",
       "879   4924.700195      273.545676   283.899994  \n",
       "957   5146.410156      256.196293   268.700012  \n",
       "1118  4809.879883      195.156475   185.399994  \n",
       "...           ...             ...          ...  \n",
       "1710  6905.919922      308.750191   302.000000  \n",
       "300   2831.020020      219.179181   216.845001  \n",
       "867   4635.240234      292.493246   297.000000  \n",
       "723   4234.080078      282.640566   264.700012  \n",
       "1058  4488.419922      177.953703   182.149994  \n",
       "\n",
       "[392 rows x 8 columns]"
      ]
     },
     "execution_count": 316,
     "metadata": {},
     "output_type": "execute_result"
    }
   ],
   "source": [
    "X_test"
   ]
  },
  {
   "cell_type": "code",
   "execution_count": 317,
   "metadata": {},
   "outputs": [
    {
     "name": "stdout",
     "output_type": "stream",
     "text": [
      "The mean sqaured error is: 292.9602718743459\n"
     ]
    }
   ],
   "source": [
    "mselinear = mean_squared_error(X_test[\"predictedstock\"],X_test[\"actualstock\"])\n",
    "print(\"The mean sqaured error is:\",mselinear)"
   ]
  },
  {
   "cell_type": "markdown",
   "metadata": {},
   "source": [
    "# Checking the model performance on april and may test dataset. "
   ]
  },
  {
   "cell_type": "code",
   "execution_count": 318,
   "metadata": {},
   "outputs": [],
   "source": [
    "test = pd.read_csv(\"F:/Data science and web devlopmemnt/value c assignments/assignment 3/SBI/Live test data for sbi.csv\")"
   ]
  },
  {
   "cell_type": "code",
   "execution_count": 319,
   "metadata": {},
   "outputs": [
    {
     "data": {
      "text/plain": [
       "Index(['Date', 'sbiopen', 'sbiAdjclose', 'austclose', 'hangsangClose',\n",
       "       'nikkies Close', 'niftyClose', 'usclose', 'usopen', 'hangsangopen'],\n",
       "      dtype='object')"
      ]
     },
     "execution_count": 319,
     "metadata": {},
     "output_type": "execute_result"
    }
   ],
   "source": [
    "test.columns"
   ]
  },
  {
   "cell_type": "code",
   "execution_count": 320,
   "metadata": {},
   "outputs": [],
   "source": [
    "teststock_open = test[\"sbiopen\"]\n"
   ]
  },
  {
   "cell_type": "code",
   "execution_count": 321,
   "metadata": {},
   "outputs": [],
   "source": [
    "date = test[\"Date\"]"
   ]
  },
  {
   "cell_type": "code",
   "execution_count": 322,
   "metadata": {},
   "outputs": [],
   "source": [
    "test = test.drop(['Date','sbiopen','hangsangopen','usopen'],axis = 1)"
   ]
  },
  {
   "cell_type": "code",
   "execution_count": 323,
   "metadata": {},
   "outputs": [
    {
     "data": {
      "text/html": [
       "<div>\n",
       "<style scoped>\n",
       "    .dataframe tbody tr th:only-of-type {\n",
       "        vertical-align: middle;\n",
       "    }\n",
       "\n",
       "    .dataframe tbody tr th {\n",
       "        vertical-align: top;\n",
       "    }\n",
       "\n",
       "    .dataframe thead th {\n",
       "        text-align: right;\n",
       "    }\n",
       "</style>\n",
       "<table border=\"1\" class=\"dataframe\">\n",
       "  <thead>\n",
       "    <tr style=\"text-align: right;\">\n",
       "      <th></th>\n",
       "      <th>sbiAdjclose</th>\n",
       "      <th>austclose</th>\n",
       "      <th>hangsangClose</th>\n",
       "      <th>nikkies Close</th>\n",
       "      <th>niftyClose</th>\n",
       "      <th>usclose</th>\n",
       "    </tr>\n",
       "  </thead>\n",
       "  <tbody>\n",
       "    <tr>\n",
       "      <th>0</th>\n",
       "      <td>187.75</td>\n",
       "      <td>5387.299805</td>\n",
       "      <td>24300.30000</td>\n",
       "      <td>19498.50000</td>\n",
       "      <td>9111.900391</td>\n",
       "      <td>8153.580078</td>\n",
       "    </tr>\n",
       "    <tr>\n",
       "      <th>1</th>\n",
       "      <td>182.35</td>\n",
       "      <td>5466.700195</td>\n",
       "      <td>24145.33984</td>\n",
       "      <td>19550.08984</td>\n",
       "      <td>8925.299805</td>\n",
       "      <td>8393.179688</td>\n",
       "    </tr>\n",
       "    <tr>\n",
       "      <th>2</th>\n",
       "      <td>184.75</td>\n",
       "      <td>5221.299805</td>\n",
       "      <td>23793.55078</td>\n",
       "      <td>19280.77930</td>\n",
       "      <td>8981.450195</td>\n",
       "      <td>8263.230469</td>\n",
       "    </tr>\n",
       "    <tr>\n",
       "      <th>3</th>\n",
       "      <td>188.70</td>\n",
       "      <td>5221.200195</td>\n",
       "      <td>23893.35938</td>\n",
       "      <td>19137.94922</td>\n",
       "      <td>9187.299805</td>\n",
       "      <td>8495.379883</td>\n",
       "    </tr>\n",
       "    <tr>\n",
       "      <th>4</th>\n",
       "      <td>186.70</td>\n",
       "      <td>5217.100098</td>\n",
       "      <td>23977.32031</td>\n",
       "      <td>19429.43945</td>\n",
       "      <td>9313.900391</td>\n",
       "      <td>8494.750000</td>\n",
       "    </tr>\n",
       "  </tbody>\n",
       "</table>\n",
       "</div>"
      ],
      "text/plain": [
       "   sbiAdjclose    austclose  hangsangClose  nikkies Close   niftyClose  \\\n",
       "0       187.75  5387.299805    24300.30000    19498.50000  9111.900391   \n",
       "1       182.35  5466.700195    24145.33984    19550.08984  8925.299805   \n",
       "2       184.75  5221.299805    23793.55078    19280.77930  8981.450195   \n",
       "3       188.70  5221.200195    23893.35938    19137.94922  9187.299805   \n",
       "4       186.70  5217.100098    23977.32031    19429.43945  9313.900391   \n",
       "\n",
       "       usclose  \n",
       "0  8153.580078  \n",
       "1  8393.179688  \n",
       "2  8263.230469  \n",
       "3  8495.379883  \n",
       "4  8494.750000  "
      ]
     },
     "execution_count": 323,
     "metadata": {},
     "output_type": "execute_result"
    }
   ],
   "source": [
    "test.head()"
   ]
  },
  {
   "cell_type": "code",
   "execution_count": 324,
   "metadata": {},
   "outputs": [
    {
     "data": {
      "text/plain": [
       "array([198.88580841, 192.61278473, 195.22192844, 200.29889192,\n",
       "       196.9829998 , 190.65769065, 195.30793704, 180.72932875,\n",
       "       182.82366619, 181.06989818, 174.14944215, 176.0159437 ,\n",
       "       173.46889413, 161.48982772, 160.90886961, 159.54347771,\n",
       "       149.91918166])"
      ]
     },
     "execution_count": 324,
     "metadata": {},
     "output_type": "execute_result"
    }
   ],
   "source": [
    "predlive = model.predict(test)\n",
    "predlive"
   ]
  },
  {
   "cell_type": "code",
   "execution_count": 325,
   "metadata": {},
   "outputs": [],
   "source": [
    "test[\"actual_live_price\"] = teststock_open "
   ]
  },
  {
   "cell_type": "code",
   "execution_count": 326,
   "metadata": {},
   "outputs": [],
   "source": [
    "test[\"predicted_live_linear\"] = predlive"
   ]
  },
  {
   "cell_type": "code",
   "execution_count": 327,
   "metadata": {},
   "outputs": [
    {
     "data": {
      "text/html": [
       "<div>\n",
       "<style scoped>\n",
       "    .dataframe tbody tr th:only-of-type {\n",
       "        vertical-align: middle;\n",
       "    }\n",
       "\n",
       "    .dataframe tbody tr th {\n",
       "        vertical-align: top;\n",
       "    }\n",
       "\n",
       "    .dataframe thead th {\n",
       "        text-align: right;\n",
       "    }\n",
       "</style>\n",
       "<table border=\"1\" class=\"dataframe\">\n",
       "  <thead>\n",
       "    <tr style=\"text-align: right;\">\n",
       "      <th></th>\n",
       "      <th>sbiAdjclose</th>\n",
       "      <th>austclose</th>\n",
       "      <th>hangsangClose</th>\n",
       "      <th>nikkies Close</th>\n",
       "      <th>niftyClose</th>\n",
       "      <th>usclose</th>\n",
       "      <th>actual_live_price</th>\n",
       "      <th>predicted_live_linear</th>\n",
       "    </tr>\n",
       "  </thead>\n",
       "  <tbody>\n",
       "    <tr>\n",
       "      <th>0</th>\n",
       "      <td>187.75</td>\n",
       "      <td>5387.299805</td>\n",
       "      <td>24300.30000</td>\n",
       "      <td>19498.50000</td>\n",
       "      <td>9111.900391</td>\n",
       "      <td>8153.580078</td>\n",
       "      <td>186.800003</td>\n",
       "      <td>198.885808</td>\n",
       "    </tr>\n",
       "    <tr>\n",
       "      <th>1</th>\n",
       "      <td>182.35</td>\n",
       "      <td>5466.700195</td>\n",
       "      <td>24145.33984</td>\n",
       "      <td>19550.08984</td>\n",
       "      <td>8925.299805</td>\n",
       "      <td>8393.179688</td>\n",
       "      <td>182.000000</td>\n",
       "      <td>192.612785</td>\n",
       "    </tr>\n",
       "    <tr>\n",
       "      <th>2</th>\n",
       "      <td>184.75</td>\n",
       "      <td>5221.299805</td>\n",
       "      <td>23793.55078</td>\n",
       "      <td>19280.77930</td>\n",
       "      <td>8981.450195</td>\n",
       "      <td>8263.230469</td>\n",
       "      <td>185.500000</td>\n",
       "      <td>195.221928</td>\n",
       "    </tr>\n",
       "    <tr>\n",
       "      <th>3</th>\n",
       "      <td>188.70</td>\n",
       "      <td>5221.200195</td>\n",
       "      <td>23893.35938</td>\n",
       "      <td>19137.94922</td>\n",
       "      <td>9187.299805</td>\n",
       "      <td>8495.379883</td>\n",
       "      <td>187.750000</td>\n",
       "      <td>200.298892</td>\n",
       "    </tr>\n",
       "    <tr>\n",
       "      <th>4</th>\n",
       "      <td>186.70</td>\n",
       "      <td>5217.100098</td>\n",
       "      <td>23977.32031</td>\n",
       "      <td>19429.43945</td>\n",
       "      <td>9313.900391</td>\n",
       "      <td>8494.750000</td>\n",
       "      <td>184.000000</td>\n",
       "      <td>196.983000</td>\n",
       "    </tr>\n",
       "    <tr>\n",
       "      <th>5</th>\n",
       "      <td>180.90</td>\n",
       "      <td>5321.399902</td>\n",
       "      <td>24280.14063</td>\n",
       "      <td>19783.22070</td>\n",
       "      <td>9282.299805</td>\n",
       "      <td>8730.160156</td>\n",
       "      <td>182.000000</td>\n",
       "      <td>190.657691</td>\n",
       "    </tr>\n",
       "    <tr>\n",
       "      <th>6</th>\n",
       "      <td>184.30</td>\n",
       "      <td>5313.100098</td>\n",
       "      <td>24575.96094</td>\n",
       "      <td>19785.34560</td>\n",
       "      <td>9380.900391</td>\n",
       "      <td>8607.730469</td>\n",
       "      <td>185.000000</td>\n",
       "      <td>195.307937</td>\n",
       "    </tr>\n",
       "    <tr>\n",
       "      <th>7</th>\n",
       "      <td>170.40</td>\n",
       "      <td>5407.100098</td>\n",
       "      <td>23868.66016</td>\n",
       "      <td>19619.98000</td>\n",
       "      <td>9205.599609</td>\n",
       "      <td>8809.120117</td>\n",
       "      <td>171.149994</td>\n",
       "      <td>180.729329</td>\n",
       "    </tr>\n",
       "    <tr>\n",
       "      <th>8</th>\n",
       "      <td>171.10</td>\n",
       "      <td>5384.600098</td>\n",
       "      <td>24137.48047</td>\n",
       "      <td>19619.34961</td>\n",
       "      <td>9270.900391</td>\n",
       "      <td>8854.389648</td>\n",
       "      <td>170.850006</td>\n",
       "      <td>182.823666</td>\n",
       "    </tr>\n",
       "    <tr>\n",
       "      <th>9</th>\n",
       "      <td>170.75</td>\n",
       "      <td>5364.200195</td>\n",
       "      <td>23980.63086</td>\n",
       "      <td>19674.76953</td>\n",
       "      <td>9199.049805</td>\n",
       "      <td>8979.660156</td>\n",
       "      <td>172.449997</td>\n",
       "      <td>181.069898</td>\n",
       "    </tr>\n",
       "    <tr>\n",
       "      <th>10</th>\n",
       "      <td>165.45</td>\n",
       "      <td>5461.200195</td>\n",
       "      <td>24602.06055</td>\n",
       "      <td>20390.66016</td>\n",
       "      <td>9239.200195</td>\n",
       "      <td>9192.339844</td>\n",
       "      <td>164.199997</td>\n",
       "      <td>174.149442</td>\n",
       "    </tr>\n",
       "    <tr>\n",
       "      <th>11</th>\n",
       "      <td>167.95</td>\n",
       "      <td>5328.700195</td>\n",
       "      <td>23829.74023</td>\n",
       "      <td>19914.77930</td>\n",
       "      <td>9142.750000</td>\n",
       "      <td>8943.719727</td>\n",
       "      <td>167.950000</td>\n",
       "      <td>176.015944</td>\n",
       "    </tr>\n",
       "    <tr>\n",
       "      <th>12</th>\n",
       "      <td>166.40</td>\n",
       "      <td>5404.799805</td>\n",
       "      <td>23797.47070</td>\n",
       "      <td>20037.47070</td>\n",
       "      <td>9136.849609</td>\n",
       "      <td>9014.559570</td>\n",
       "      <td>166.400000</td>\n",
       "      <td>173.468894</td>\n",
       "    </tr>\n",
       "    <tr>\n",
       "      <th>13</th>\n",
       "      <td>152.80</td>\n",
       "      <td>5559.500000</td>\n",
       "      <td>24388.13086</td>\n",
       "      <td>20433.44922</td>\n",
       "      <td>8879.099609</td>\n",
       "      <td>9185.099609</td>\n",
       "      <td>153.000000</td>\n",
       "      <td>161.489828</td>\n",
       "    </tr>\n",
       "    <tr>\n",
       "      <th>14</th>\n",
       "      <td>153.40</td>\n",
       "      <td>5573.000000</td>\n",
       "      <td>24399.94922</td>\n",
       "      <td>20595.15039</td>\n",
       "      <td>9066.549805</td>\n",
       "      <td>9375.780273</td>\n",
       "      <td>153.650000</td>\n",
       "      <td>160.908870</td>\n",
       "    </tr>\n",
       "    <tr>\n",
       "      <th>15</th>\n",
       "      <td>151.95</td>\n",
       "      <td>5550.399902</td>\n",
       "      <td>24280.02930</td>\n",
       "      <td>20552.31055</td>\n",
       "      <td>9106.250000</td>\n",
       "      <td>9284.879883</td>\n",
       "      <td>152.000000</td>\n",
       "      <td>159.543478</td>\n",
       "    </tr>\n",
       "    <tr>\n",
       "      <th>16</th>\n",
       "      <td>150.85</td>\n",
       "      <td>5615.600098</td>\n",
       "      <td>22952.24023</td>\n",
       "      <td>20741.65039</td>\n",
       "      <td>9039.250000</td>\n",
       "      <td>9324.589844</td>\n",
       "      <td>152.400000</td>\n",
       "      <td>149.919182</td>\n",
       "    </tr>\n",
       "  </tbody>\n",
       "</table>\n",
       "</div>"
      ],
      "text/plain": [
       "    sbiAdjclose    austclose  hangsangClose  nikkies Close   niftyClose  \\\n",
       "0        187.75  5387.299805    24300.30000    19498.50000  9111.900391   \n",
       "1        182.35  5466.700195    24145.33984    19550.08984  8925.299805   \n",
       "2        184.75  5221.299805    23793.55078    19280.77930  8981.450195   \n",
       "3        188.70  5221.200195    23893.35938    19137.94922  9187.299805   \n",
       "4        186.70  5217.100098    23977.32031    19429.43945  9313.900391   \n",
       "5        180.90  5321.399902    24280.14063    19783.22070  9282.299805   \n",
       "6        184.30  5313.100098    24575.96094    19785.34560  9380.900391   \n",
       "7        170.40  5407.100098    23868.66016    19619.98000  9205.599609   \n",
       "8        171.10  5384.600098    24137.48047    19619.34961  9270.900391   \n",
       "9        170.75  5364.200195    23980.63086    19674.76953  9199.049805   \n",
       "10       165.45  5461.200195    24602.06055    20390.66016  9239.200195   \n",
       "11       167.95  5328.700195    23829.74023    19914.77930  9142.750000   \n",
       "12       166.40  5404.799805    23797.47070    20037.47070  9136.849609   \n",
       "13       152.80  5559.500000    24388.13086    20433.44922  8879.099609   \n",
       "14       153.40  5573.000000    24399.94922    20595.15039  9066.549805   \n",
       "15       151.95  5550.399902    24280.02930    20552.31055  9106.250000   \n",
       "16       150.85  5615.600098    22952.24023    20741.65039  9039.250000   \n",
       "\n",
       "        usclose  actual_live_price  predicted_live_linear  \n",
       "0   8153.580078         186.800003             198.885808  \n",
       "1   8393.179688         182.000000             192.612785  \n",
       "2   8263.230469         185.500000             195.221928  \n",
       "3   8495.379883         187.750000             200.298892  \n",
       "4   8494.750000         184.000000             196.983000  \n",
       "5   8730.160156         182.000000             190.657691  \n",
       "6   8607.730469         185.000000             195.307937  \n",
       "7   8809.120117         171.149994             180.729329  \n",
       "8   8854.389648         170.850006             182.823666  \n",
       "9   8979.660156         172.449997             181.069898  \n",
       "10  9192.339844         164.199997             174.149442  \n",
       "11  8943.719727         167.950000             176.015944  \n",
       "12  9014.559570         166.400000             173.468894  \n",
       "13  9185.099609         153.000000             161.489828  \n",
       "14  9375.780273         153.650000             160.908870  \n",
       "15  9284.879883         152.000000             159.543478  \n",
       "16  9324.589844         152.400000             149.919182  "
      ]
     },
     "execution_count": 327,
     "metadata": {},
     "output_type": "execute_result"
    }
   ],
   "source": [
    "test"
   ]
  },
  {
   "cell_type": "code",
   "execution_count": 328,
   "metadata": {},
   "outputs": [
    {
     "name": "stdout",
     "output_type": "stream",
     "text": [
      "The root mean squared error is: 9.615361081594227\n"
     ]
    }
   ],
   "source": [
    "print(\"The root mean squared error is:\",(mean_squared_error(test[\"actual_live_price\"],test[\"predicted_live_linear\"]))**0.5)\n"
   ]
  },
  {
   "cell_type": "markdown",
   "metadata": {},
   "source": [
    "# prediction for june 9 (actual open is 187.00)"
   ]
  },
  {
   "cell_type": "code",
   "execution_count": 329,
   "metadata": {},
   "outputs": [
    {
     "data": {
      "text/plain": [
       "array([171.64543566])"
      ]
     },
     "execution_count": 329,
     "metadata": {},
     "output_type": "execute_result"
    }
   ],
   "source": [
    "model.predict([[186.80,5998.70,24776.77,23178.10,10167.45,9814.08]])"
   ]
  },
  {
   "cell_type": "markdown",
   "metadata": {},
   "source": [
    "# The predicted open is 171.64 which is less than 10% error"
   ]
  },
  {
   "cell_type": "markdown",
   "metadata": {},
   "source": [
    "# The root mean squared error is: 9.615361081594227"
   ]
  },
  {
   "cell_type": "markdown",
   "metadata": {},
   "source": [
    "# Model building using Ridge and Lasso Regression.\n"
   ]
  },
  {
   "cell_type": "code",
   "execution_count": 330,
   "metadata": {},
   "outputs": [],
   "source": [
    "from sklearn.linear_model import Lasso,Ridge# loading the required library."
   ]
  },
  {
   "cell_type": "markdown",
   "metadata": {},
   "source": [
    "# Applying Ridge Regression."
   ]
  },
  {
   "cell_type": "code",
   "execution_count": 331,
   "metadata": {},
   "outputs": [
    {
     "data": {
      "text/plain": [
       "GridSearchCV(cv=20, error_score=nan,\n",
       "             estimator=Ridge(alpha=1.0, copy_X=True, fit_intercept=True,\n",
       "                             max_iter=1000000, normalize=False,\n",
       "                             random_state=None, solver='auto', tol=0.001),\n",
       "             iid='deprecated', n_jobs=None,\n",
       "             param_grid={'alpha': [2e-08, 1e-08, 2, 5, 1e-10, 1e-08, 0.001,\n",
       "                                   0.01, 1, 5, 10, 20, 30, 35, 40, 45, 50, 55,\n",
       "                                   100],\n",
       "                         'normalize': [True, False],\n",
       "                         'random_state': [1, 12, 56, 20, 42, 35, 550]},\n",
       "             pre_dispatch='2*n_jobs', refit=True, return_train_score=False,\n",
       "             scoring=None, verbose=0)"
      ]
     },
     "execution_count": 331,
     "metadata": {},
     "output_type": "execute_result"
    }
   ],
   "source": [
    "from sklearn.linear_model import Ridge\n",
    "parameters={'alpha':[0.00000002,0.00000001,2,5,1e-10,1e-8,1e-3,1e-2,1,5,10,20,30,35,40,45,50,55,100],'random_state':[1,12,56,20,42,35,550],'normalize':[True,False]}\n",
    "ridge  = Ridge(max_iter=1000000)\n",
    "ridge_regressor=GridSearchCV(ridge,parameters,cv=20)\n",
    "ridge_regressor.fit(X_train,y_train)"
   ]
  },
  {
   "cell_type": "code",
   "execution_count": 332,
   "metadata": {},
   "outputs": [
    {
     "name": "stdout",
     "output_type": "stream",
     "text": [
      "{'alpha': 0.001, 'normalize': True, 'random_state': 1}\n",
      "0.8484206071210186\n"
     ]
    }
   ],
   "source": [
    "print(ridge_regressor.best_params_)\n",
    "print(ridge_regressor.best_score_)"
   ]
  },
  {
   "cell_type": "code",
   "execution_count": 333,
   "metadata": {},
   "outputs": [
    {
     "data": {
      "text/plain": [
       "Ridge(alpha=100, copy_X=True, fit_intercept=False, max_iter=10, normalize=False,\n",
       "      random_state=1, solver='auto', tol=0.001)"
      ]
     },
     "execution_count": 333,
     "metadata": {},
     "output_type": "execute_result"
    }
   ],
   "source": [
    "ridge = Ridge(max_iter=10,alpha=100, normalize=False, random_state= 1,fit_intercept=False)\n",
    "ridge.fit(X_train,y_train)"
   ]
  },
  {
   "cell_type": "code",
   "execution_count": 334,
   "metadata": {},
   "outputs": [],
   "source": [
    "x_test_ridge = X_test.drop([\"predictedstock\",\"actualstock\"],axis = 1)"
   ]
  },
  {
   "cell_type": "code",
   "execution_count": 335,
   "metadata": {},
   "outputs": [],
   "source": [
    "pred = ridge.predict(x_test_ridge)"
   ]
  },
  {
   "cell_type": "code",
   "execution_count": 336,
   "metadata": {},
   "outputs": [
    {
     "data": {
      "text/plain": [
       "297.7557094376644"
      ]
     },
     "execution_count": 336,
     "metadata": {},
     "output_type": "execute_result"
    }
   ],
   "source": [
    "mean_squared_error(pred,y_test)"
   ]
  },
  {
   "cell_type": "code",
   "execution_count": 350,
   "metadata": {},
   "outputs": [],
   "source": [
    "test_ridge = test.drop(['actual_live_price','predicted_live_linear'],axis = 1)"
   ]
  },
  {
   "cell_type": "code",
   "execution_count": 351,
   "metadata": {},
   "outputs": [],
   "source": [
    "pred_ridge = ridge.predict(test_ridge)"
   ]
  },
  {
   "cell_type": "code",
   "execution_count": 352,
   "metadata": {},
   "outputs": [],
   "source": [
    "test[\"pred_ridge\"] = pred_ridge"
   ]
  },
  {
   "cell_type": "code",
   "execution_count": 354,
   "metadata": {},
   "outputs": [
    {
     "data": {
      "text/html": [
       "<div>\n",
       "<style scoped>\n",
       "    .dataframe tbody tr th:only-of-type {\n",
       "        vertical-align: middle;\n",
       "    }\n",
       "\n",
       "    .dataframe tbody tr th {\n",
       "        vertical-align: top;\n",
       "    }\n",
       "\n",
       "    .dataframe thead th {\n",
       "        text-align: right;\n",
       "    }\n",
       "</style>\n",
       "<table border=\"1\" class=\"dataframe\">\n",
       "  <thead>\n",
       "    <tr style=\"text-align: right;\">\n",
       "      <th></th>\n",
       "      <th>sbiAdjclose</th>\n",
       "      <th>austclose</th>\n",
       "      <th>hangsangClose</th>\n",
       "      <th>nikkies Close</th>\n",
       "      <th>niftyClose</th>\n",
       "      <th>usclose</th>\n",
       "      <th>actual_live_price</th>\n",
       "      <th>predicted_live_linear</th>\n",
       "      <th>pred_ridge</th>\n",
       "    </tr>\n",
       "  </thead>\n",
       "  <tbody>\n",
       "    <tr>\n",
       "      <th>0</th>\n",
       "      <td>187.75</td>\n",
       "      <td>5387.299805</td>\n",
       "      <td>24300.30000</td>\n",
       "      <td>19498.50000</td>\n",
       "      <td>9111.900391</td>\n",
       "      <td>8153.580078</td>\n",
       "      <td>186.800003</td>\n",
       "      <td>198.885808</td>\n",
       "      <td>183.836503</td>\n",
       "    </tr>\n",
       "    <tr>\n",
       "      <th>1</th>\n",
       "      <td>182.35</td>\n",
       "      <td>5466.700195</td>\n",
       "      <td>24145.33984</td>\n",
       "      <td>19550.08984</td>\n",
       "      <td>8925.299805</td>\n",
       "      <td>8393.179688</td>\n",
       "      <td>182.000000</td>\n",
       "      <td>192.612785</td>\n",
       "      <td>176.508103</td>\n",
       "    </tr>\n",
       "    <tr>\n",
       "      <th>2</th>\n",
       "      <td>184.75</td>\n",
       "      <td>5221.299805</td>\n",
       "      <td>23793.55078</td>\n",
       "      <td>19280.77930</td>\n",
       "      <td>8981.450195</td>\n",
       "      <td>8263.230469</td>\n",
       "      <td>185.500000</td>\n",
       "      <td>195.221928</td>\n",
       "      <td>176.907346</td>\n",
       "    </tr>\n",
       "    <tr>\n",
       "      <th>3</th>\n",
       "      <td>188.70</td>\n",
       "      <td>5221.200195</td>\n",
       "      <td>23893.35938</td>\n",
       "      <td>19137.94922</td>\n",
       "      <td>9187.299805</td>\n",
       "      <td>8495.379883</td>\n",
       "      <td>187.750000</td>\n",
       "      <td>200.298892</td>\n",
       "      <td>181.202009</td>\n",
       "    </tr>\n",
       "    <tr>\n",
       "      <th>4</th>\n",
       "      <td>186.70</td>\n",
       "      <td>5217.100098</td>\n",
       "      <td>23977.32031</td>\n",
       "      <td>19429.43945</td>\n",
       "      <td>9313.900391</td>\n",
       "      <td>8494.750000</td>\n",
       "      <td>184.000000</td>\n",
       "      <td>196.983000</td>\n",
       "      <td>178.308647</td>\n",
       "    </tr>\n",
       "  </tbody>\n",
       "</table>\n",
       "</div>"
      ],
      "text/plain": [
       "   sbiAdjclose    austclose  hangsangClose  nikkies Close   niftyClose  \\\n",
       "0       187.75  5387.299805    24300.30000    19498.50000  9111.900391   \n",
       "1       182.35  5466.700195    24145.33984    19550.08984  8925.299805   \n",
       "2       184.75  5221.299805    23793.55078    19280.77930  8981.450195   \n",
       "3       188.70  5221.200195    23893.35938    19137.94922  9187.299805   \n",
       "4       186.70  5217.100098    23977.32031    19429.43945  9313.900391   \n",
       "\n",
       "       usclose  actual_live_price  predicted_live_linear  pred_ridge  \n",
       "0  8153.580078         186.800003             198.885808  183.836503  \n",
       "1  8393.179688         182.000000             192.612785  176.508103  \n",
       "2  8263.230469         185.500000             195.221928  176.907346  \n",
       "3  8495.379883         187.750000             200.298892  181.202009  \n",
       "4  8494.750000         184.000000             196.983000  178.308647  "
      ]
     },
     "execution_count": 354,
     "metadata": {},
     "output_type": "execute_result"
    }
   ],
   "source": [
    "test.head()"
   ]
  },
  {
   "cell_type": "markdown",
   "metadata": {},
   "source": [
    "# ENSEMBLE TECHNIQUE (COMBINING DIFFERENT MODELS).\n"
   ]
  },
  {
   "cell_type": "code",
   "execution_count": 337,
   "metadata": {},
   "outputs": [],
   "source": [
    "#loading required library\n",
    "from sklearn.linear_model import LinearRegression\n",
    "from sklearn.tree import DecisionTreeRegressor\n",
    "from sklearn.linear_model import Ridge\n",
    "from sklearn.ensemble import VotingRegressor"
   ]
  },
  {
   "cell_type": "code",
   "execution_count": 338,
   "metadata": {},
   "outputs": [
    {
     "data": {
      "text/plain": [
       "Index(['SBIOpen', 'SBIAdj Close', 'sangaiclose', 'aust close', 'hangsangclose',\n",
       "       'nkkiesclose', 'nifty50 close', 'usclose', 'hangopen', 'austopen',\n",
       "       'niftyopen', 'nikkiesopen', 'sangaiopen', 'month', 'day', 'year'],\n",
       "      dtype='object')"
      ]
     },
     "execution_count": 338,
     "metadata": {},
     "output_type": "execute_result"
    }
   ],
   "source": [
    "sbi_main.columns"
   ]
  },
  {
   "cell_type": "code",
   "execution_count": 339,
   "metadata": {},
   "outputs": [],
   "source": [
    "sbi_main = sbi_main.drop(['sangaiclose','niftyopen','nikkiesopen','hangopen','day','month','year','austopen','sangaiopen'],axis=1)"
   ]
  },
  {
   "cell_type": "code",
   "execution_count": 340,
   "metadata": {},
   "outputs": [],
   "source": [
    "Y = sbi_main[\"SBIOpen\"]"
   ]
  },
  {
   "cell_type": "code",
   "execution_count": 341,
   "metadata": {},
   "outputs": [],
   "source": [
    "X = sbi_main.drop([\"SBIOpen\"],axis = 1)"
   ]
  },
  {
   "cell_type": "code",
   "execution_count": 342,
   "metadata": {},
   "outputs": [],
   "source": [
    "X_train, X_test, y_train, y_test = train_test_split(X,Y,test_size=0.05,random_state =35)\n"
   ]
  },
  {
   "cell_type": "code",
   "execution_count": 343,
   "metadata": {},
   "outputs": [],
   "source": [
    "kfold = model_selection.KFold(n_splits=20,random_state= 50)"
   ]
  },
  {
   "cell_type": "markdown",
   "metadata": {},
   "source": [
    "# Tuning hyperparameters."
   ]
  },
  {
   "cell_type": "code",
   "execution_count": 344,
   "metadata": {},
   "outputs": [],
   "source": [
    "estimator = []\n",
    "model1 = LinearRegression(normalize=False,fit_intercept=True,n_jobs=-1)\n",
    "estimator.append(('Linear',model1))\n",
    "model2 = Ridge(alpha=0.0001,\n",
    "    fit_intercept=True,\n",
    "    normalize=True,\n",
    "    copy_X=True,\n",
    "    max_iter=100000,\n",
    "    tol=0.000001,\n",
    "    solver='cholesky',\n",
    "    random_state=35)\n",
    "estimator.append(('ridge',model2))\n",
    "model3 = DecisionTreeRegressor(max_depth=25)\n",
    "estimator.append(('desiciontree',model3))"
   ]
  },
  {
   "cell_type": "code",
   "execution_count": 345,
   "metadata": {},
   "outputs": [],
   "source": [
    "#creating ensemble model\n",
    "ensemble = VotingRegressor(estimator)\n",
    "result = model_selection.cross_val_score(ensemble,X_train,y_train,cv =kfold)"
   ]
  },
  {
   "cell_type": "code",
   "execution_count": 346,
   "metadata": {},
   "outputs": [
    {
     "data": {
      "text/plain": [
       "0.9271823407055356"
      ]
     },
     "execution_count": 346,
     "metadata": {},
     "output_type": "execute_result"
    }
   ],
   "source": [
    "result.mean()"
   ]
  },
  {
   "cell_type": "code",
   "execution_count": 347,
   "metadata": {},
   "outputs": [],
   "source": [
    "ensemble=ensemble.fit(X_train,y_train)"
   ]
  },
  {
   "cell_type": "code",
   "execution_count": 355,
   "metadata": {},
   "outputs": [],
   "source": [
    "predic_value=ensemble.predict(X_test)"
   ]
  },
  {
   "cell_type": "code",
   "execution_count": 349,
   "metadata": {},
   "outputs": [
    {
     "data": {
      "text/plain": [
       "10.498188413400857"
      ]
     },
     "execution_count": 349,
     "metadata": {},
     "output_type": "execute_result"
    }
   ],
   "source": [
    "(mean_squared_error(predic_value,y_test))**0.5"
   ]
  },
  {
   "cell_type": "code",
   "execution_count": 356,
   "metadata": {},
   "outputs": [],
   "source": [
    "test_ensemble = test.drop(['actual_live_price','predicted_live_linear','pred_ridge'],axis = 1)"
   ]
  },
  {
   "cell_type": "code",
   "execution_count": 357,
   "metadata": {},
   "outputs": [],
   "source": [
    "pred_ensemble = ensemble.predict(test_ensemble)"
   ]
  },
  {
   "cell_type": "code",
   "execution_count": 358,
   "metadata": {},
   "outputs": [],
   "source": [
    "test[\"pred_ensemble\"] = pred_ensemble"
   ]
  },
  {
   "cell_type": "code",
   "execution_count": 359,
   "metadata": {},
   "outputs": [
    {
     "data": {
      "text/html": [
       "<div>\n",
       "<style scoped>\n",
       "    .dataframe tbody tr th:only-of-type {\n",
       "        vertical-align: middle;\n",
       "    }\n",
       "\n",
       "    .dataframe tbody tr th {\n",
       "        vertical-align: top;\n",
       "    }\n",
       "\n",
       "    .dataframe thead th {\n",
       "        text-align: right;\n",
       "    }\n",
       "</style>\n",
       "<table border=\"1\" class=\"dataframe\">\n",
       "  <thead>\n",
       "    <tr style=\"text-align: right;\">\n",
       "      <th></th>\n",
       "      <th>sbiAdjclose</th>\n",
       "      <th>austclose</th>\n",
       "      <th>hangsangClose</th>\n",
       "      <th>nikkies Close</th>\n",
       "      <th>niftyClose</th>\n",
       "      <th>usclose</th>\n",
       "      <th>actual_live_price</th>\n",
       "      <th>predicted_live_linear</th>\n",
       "      <th>pred_ridge</th>\n",
       "      <th>pred_ensemble</th>\n",
       "    </tr>\n",
       "  </thead>\n",
       "  <tbody>\n",
       "    <tr>\n",
       "      <th>0</th>\n",
       "      <td>187.75</td>\n",
       "      <td>5387.299805</td>\n",
       "      <td>24300.30000</td>\n",
       "      <td>19498.50000</td>\n",
       "      <td>9111.900391</td>\n",
       "      <td>8153.580078</td>\n",
       "      <td>186.800003</td>\n",
       "      <td>198.885808</td>\n",
       "      <td>183.836503</td>\n",
       "      <td>190.639163</td>\n",
       "    </tr>\n",
       "    <tr>\n",
       "      <th>1</th>\n",
       "      <td>182.35</td>\n",
       "      <td>5466.700195</td>\n",
       "      <td>24145.33984</td>\n",
       "      <td>19550.08984</td>\n",
       "      <td>8925.299805</td>\n",
       "      <td>8393.179688</td>\n",
       "      <td>182.000000</td>\n",
       "      <td>192.612785</td>\n",
       "      <td>176.508103</td>\n",
       "      <td>186.263983</td>\n",
       "    </tr>\n",
       "    <tr>\n",
       "      <th>2</th>\n",
       "      <td>184.75</td>\n",
       "      <td>5221.299805</td>\n",
       "      <td>23793.55078</td>\n",
       "      <td>19280.77930</td>\n",
       "      <td>8981.450195</td>\n",
       "      <td>8263.230469</td>\n",
       "      <td>185.500000</td>\n",
       "      <td>195.221928</td>\n",
       "      <td>176.907346</td>\n",
       "      <td>187.953314</td>\n",
       "    </tr>\n",
       "    <tr>\n",
       "      <th>3</th>\n",
       "      <td>188.70</td>\n",
       "      <td>5221.200195</td>\n",
       "      <td>23893.35938</td>\n",
       "      <td>19137.94922</td>\n",
       "      <td>9187.299805</td>\n",
       "      <td>8495.379883</td>\n",
       "      <td>187.750000</td>\n",
       "      <td>200.298892</td>\n",
       "      <td>181.202009</td>\n",
       "      <td>216.788677</td>\n",
       "    </tr>\n",
       "    <tr>\n",
       "      <th>4</th>\n",
       "      <td>186.70</td>\n",
       "      <td>5217.100098</td>\n",
       "      <td>23977.32031</td>\n",
       "      <td>19429.43945</td>\n",
       "      <td>9313.900391</td>\n",
       "      <td>8494.750000</td>\n",
       "      <td>184.000000</td>\n",
       "      <td>196.983000</td>\n",
       "      <td>178.308647</td>\n",
       "      <td>189.205133</td>\n",
       "    </tr>\n",
       "  </tbody>\n",
       "</table>\n",
       "</div>"
      ],
      "text/plain": [
       "   sbiAdjclose    austclose  hangsangClose  nikkies Close   niftyClose  \\\n",
       "0       187.75  5387.299805    24300.30000    19498.50000  9111.900391   \n",
       "1       182.35  5466.700195    24145.33984    19550.08984  8925.299805   \n",
       "2       184.75  5221.299805    23793.55078    19280.77930  8981.450195   \n",
       "3       188.70  5221.200195    23893.35938    19137.94922  9187.299805   \n",
       "4       186.70  5217.100098    23977.32031    19429.43945  9313.900391   \n",
       "\n",
       "       usclose  actual_live_price  predicted_live_linear  pred_ridge  \\\n",
       "0  8153.580078         186.800003             198.885808  183.836503   \n",
       "1  8393.179688         182.000000             192.612785  176.508103   \n",
       "2  8263.230469         185.500000             195.221928  176.907346   \n",
       "3  8495.379883         187.750000             200.298892  181.202009   \n",
       "4  8494.750000         184.000000             196.983000  178.308647   \n",
       "\n",
       "   pred_ensemble  \n",
       "0     190.639163  \n",
       "1     186.263983  \n",
       "2     187.953314  \n",
       "3     216.788677  \n",
       "4     189.205133  "
      ]
     },
     "execution_count": 359,
     "metadata": {},
     "output_type": "execute_result"
    }
   ],
   "source": [
    "test.head()"
   ]
  },
  {
   "cell_type": "markdown",
   "metadata": {},
   "source": [
    "# The root mean square error is 10.49 for ensemble technique after tuning hyperparameters."
   ]
  },
  {
   "cell_type": "markdown",
   "metadata": {},
   "source": [
    "# Adaboosting regressor"
   ]
  },
  {
   "cell_type": "code",
   "execution_count": 360,
   "metadata": {},
   "outputs": [
    {
     "data": {
      "text/plain": [
       "GridSearchCV(cv=5, error_score=nan,\n",
       "             estimator=AdaBoostRegressor(base_estimator=LinearRegression(copy_X=True,\n",
       "                                                                         fit_intercept=True,\n",
       "                                                                         n_jobs=None,\n",
       "                                                                         normalize=True),\n",
       "                                         learning_rate=1.0, loss='linear',\n",
       "                                         n_estimators=50, random_state=None),\n",
       "             iid='deprecated', n_jobs=None,\n",
       "             param_grid={'learning_rate': [2e-08, 1e-10, 1e-08, 0.001, 0.01],\n",
       "                         'loss': ['linear', 'square', 'exponential'],\n",
       "                         'n_estimators': [10, 20, 30, 40, 50, 60, 36]},\n",
       "             pre_dispatch='2*n_jobs', refit=True, return_train_score=False,\n",
       "             scoring=None, verbose=0)"
      ]
     },
     "execution_count": 360,
     "metadata": {},
     "output_type": "execute_result"
    }
   ],
   "source": [
    "from sklearn.ensemble import AdaBoostRegressor\n",
    "param = {\"n_estimators\":[10,20,30,40,50, 60,36],\"learning_rate\":[0.00000002,1e-10,1e-8,1e-3,1e-2],\"loss\":['linear','square','exponential']}\n",
    "adamodel =AdaBoostRegressor(base_estimator=LinearRegression(normalize=True))\n",
    "gridada = GridSearchCV(adamodel,param,cv=5)\n",
    "gridada.fit(X_train, y_train)\n"
   ]
  },
  {
   "cell_type": "code",
   "execution_count": 361,
   "metadata": {},
   "outputs": [
    {
     "name": "stdout",
     "output_type": "stream",
     "text": [
      "{'learning_rate': 0.01, 'loss': 'linear', 'n_estimators': 10}\n",
      "0.8574369690451343\n"
     ]
    }
   ],
   "source": [
    "print(gridada.best_params_)\n",
    "print(gridada.best_score_)"
   ]
  },
  {
   "cell_type": "markdown",
   "metadata": {},
   "source": [
    "# After getting best hyperparameters"
   ]
  },
  {
   "cell_type": "code",
   "execution_count": 378,
   "metadata": {},
   "outputs": [],
   "source": [
    "ada_model =AdaBoostRegressor(base_estimator=LinearRegression(copy_X=True,\n",
    "                                                                         fit_intercept=True,\n",
    "                                                                         n_jobs=None,\n",
    "                                                                         normalize=False\n",
    "                                                            ),learning_rate=0.01, loss= 'linear', n_estimators= 10)"
   ]
  },
  {
   "cell_type": "code",
   "execution_count": 379,
   "metadata": {},
   "outputs": [
    {
     "data": {
      "text/plain": [
       "AdaBoostRegressor(base_estimator=LinearRegression(copy_X=True,\n",
       "                                                  fit_intercept=True,\n",
       "                                                  n_jobs=None,\n",
       "                                                  normalize=False),\n",
       "                  learning_rate=0.01, loss='linear', n_estimators=10,\n",
       "                  random_state=None)"
      ]
     },
     "execution_count": 379,
     "metadata": {},
     "output_type": "execute_result"
    }
   ],
   "source": [
    "ada_model.fit(X_train,y_train)"
   ]
  },
  {
   "cell_type": "code",
   "execution_count": 380,
   "metadata": {},
   "outputs": [],
   "source": [
    "pred_ada = ada_model.predict(X_test)"
   ]
  },
  {
   "cell_type": "code",
   "execution_count": 381,
   "metadata": {},
   "outputs": [
    {
     "data": {
      "text/plain": [
       "242.7186287475439"
      ]
     },
     "execution_count": 381,
     "metadata": {},
     "output_type": "execute_result"
    }
   ],
   "source": [
    "mean_squared_error(pred_ada,y_test)"
   ]
  },
  {
   "cell_type": "markdown",
   "metadata": {},
   "source": [
    "# RANDOMFOREST REGRESSOR"
   ]
  },
  {
   "cell_type": "code",
   "execution_count": 393,
   "metadata": {},
   "outputs": [],
   "source": [
    "from sklearn.model_selection import GridSearchCV\n",
    "from sklearn.model_selection import RandomizedSearchCV"
   ]
  },
  {
   "cell_type": "markdown",
   "metadata": {},
   "source": [
    "# Hyperparameter tuning for finding the best hyperparameters."
   ]
  },
  {
   "cell_type": "code",
   "execution_count": 390,
   "metadata": {},
   "outputs": [],
   "source": [
    "from sklearn.ensemble import RandomForestRegressor\n",
    "rf = RandomForestRegressor(random_state = 42)"
   ]
  },
  {
   "cell_type": "code",
   "execution_count": 392,
   "metadata": {},
   "outputs": [
    {
     "name": "stdout",
     "output_type": "stream",
     "text": [
      "Parameters currently in use:\n",
      "\n",
      "{'bootstrap': True, 'ccp_alpha': 0.0, 'criterion': 'mse', 'max_depth': None, 'max_features': 'auto', 'max_leaf_nodes': None, 'max_samples': None, 'min_impurity_decrease': 0.0, 'min_impurity_split': None, 'min_samples_leaf': 1, 'min_samples_split': 2, 'min_weight_fraction_leaf': 0.0, 'n_estimators': 100, 'n_jobs': None, 'oob_score': False, 'random_state': 42, 'verbose': 0, 'warm_start': False}\n"
     ]
    }
   ],
   "source": [
    "print('Parameters currently in use:\\n')\n",
    "print(rf.get_params())"
   ]
  },
  {
   "cell_type": "code",
   "execution_count": 395,
   "metadata": {},
   "outputs": [
    {
     "name": "stdout",
     "output_type": "stream",
     "text": [
      "{'n_estimators': [200, 400, 600, 800, 1000, 1200, 1400, 1600, 1800, 2000], 'max_features': ['auto', 'sqrt'], 'max_depth': [10, 20, 30, 40, 50, 60, 70, 80, 90, 100, 110, None], 'min_samples_split': [2, 5, 10], 'min_samples_leaf': [1, 2, 4], 'bootstrap': [True, False]}\n"
     ]
    }
   ],
   "source": [
    "# Number of trees in random forest\n",
    "n_estimators = [int(x) for x in np.linspace(start = 200, stop = 2000, num = 10)]\n",
    "# Number of features to consider at every split\n",
    "max_features = ['auto', 'sqrt']\n",
    "# Maximum number of levels in tree\n",
    "max_depth = [int(x) for x in np.linspace(10, 110, num = 11)]\n",
    "max_depth.append(None)\n",
    "# Minimum number of samples required to split a node\n",
    "min_samples_split = [2, 5, 10]\n",
    "# Minimum number of samples required at each leaf node\n",
    "min_samples_leaf = [1, 2, 4]\n",
    "# Method of selecting samples for training each tree\n",
    "bootstrap = [True, False]\n",
    "# Create the random grid\n",
    "random_grid = {'n_estimators': n_estimators,\n",
    "               'max_features': max_features,\n",
    "               'max_depth': max_depth,\n",
    "               'min_samples_split': min_samples_split,\n",
    "               'min_samples_leaf': min_samples_leaf,\n",
    "               'bootstrap': bootstrap}\n",
    "print(random_grid)"
   ]
  },
  {
   "cell_type": "code",
   "execution_count": 396,
   "metadata": {},
   "outputs": [
    {
     "name": "stdout",
     "output_type": "stream",
     "text": [
      "Fitting 3 folds for each of 100 candidates, totalling 300 fits\n"
     ]
    },
    {
     "name": "stderr",
     "output_type": "stream",
     "text": [
      "[Parallel(n_jobs=-1)]: Using backend LokyBackend with 4 concurrent workers.\n",
      "[Parallel(n_jobs=-1)]: Done  33 tasks      | elapsed:  1.8min\n",
      "[Parallel(n_jobs=-1)]: Done 154 tasks      | elapsed:  8.1min\n",
      "[Parallel(n_jobs=-1)]: Done 300 out of 300 | elapsed: 16.1min finished\n"
     ]
    },
    {
     "data": {
      "text/plain": [
       "RandomizedSearchCV(cv=3, error_score=nan,\n",
       "                   estimator=RandomForestRegressor(bootstrap=True,\n",
       "                                                   ccp_alpha=0.0,\n",
       "                                                   criterion='mse',\n",
       "                                                   max_depth=None,\n",
       "                                                   max_features='auto',\n",
       "                                                   max_leaf_nodes=None,\n",
       "                                                   max_samples=None,\n",
       "                                                   min_impurity_decrease=0.0,\n",
       "                                                   min_impurity_split=None,\n",
       "                                                   min_samples_leaf=1,\n",
       "                                                   min_samples_split=2,\n",
       "                                                   min_weight_fraction_leaf=0.0,\n",
       "                                                   n_estimators=100,\n",
       "                                                   n_jobs=None, oob_score=Fals...\n",
       "                   param_distributions={'bootstrap': [True, False],\n",
       "                                        'max_depth': [10, 20, 30, 40, 50, 60,\n",
       "                                                      70, 80, 90, 100, 110,\n",
       "                                                      None],\n",
       "                                        'max_features': ['auto', 'sqrt'],\n",
       "                                        'min_samples_leaf': [1, 2, 4],\n",
       "                                        'min_samples_split': [2, 5, 10],\n",
       "                                        'n_estimators': [200, 400, 600, 800,\n",
       "                                                         1000, 1200, 1400, 1600,\n",
       "                                                         1800, 2000]},\n",
       "                   pre_dispatch='2*n_jobs', random_state=42, refit=True,\n",
       "                   return_train_score=False, scoring=None, verbose=2)"
      ]
     },
     "execution_count": 396,
     "metadata": {},
     "output_type": "execute_result"
    }
   ],
   "source": [
    "rf = RandomForestRegressor()\n",
    "rf_random = RandomizedSearchCV(estimator = rf, param_distributions = random_grid, n_iter = 100, cv = 3, verbose=2, random_state=42, n_jobs = -1)\n",
    "rf_random.fit(X_train,y_train)"
   ]
  },
  {
   "cell_type": "code",
   "execution_count": 397,
   "metadata": {},
   "outputs": [
    {
     "data": {
      "text/plain": [
       "{'n_estimators': 400,\n",
       " 'min_samples_split': 2,\n",
       " 'min_samples_leaf': 1,\n",
       " 'max_features': 'sqrt',\n",
       " 'max_depth': None,\n",
       " 'bootstrap': False}"
      ]
     },
     "execution_count": 397,
     "metadata": {},
     "output_type": "execute_result"
    }
   ],
   "source": [
    "rf_random.best_params_"
   ]
  },
  {
   "cell_type": "code",
   "execution_count": 399,
   "metadata": {},
   "outputs": [],
   "source": [
    "def evaluate(model, test_features, test_labels):\n",
    "    predictions = model.predict(test_features)\n",
    "    errors = abs(predictions - test_labels)\n",
    "    mape = 100 * np.mean(errors / test_labels)\n",
    "    accuracy = 100 - mape\n",
    "    print('Model Performance')\n",
    "    print('Average Error: {:0.4f} degrees.'.format(np.mean(errors)))\n",
    "    print('Accuracy = {:0.2f}%.'.format(accuracy))\n",
    "    \n",
    "    return accuracy\n"
   ]
  },
  {
   "cell_type": "code",
   "execution_count": 400,
   "metadata": {},
   "outputs": [
    {
     "name": "stdout",
     "output_type": "stream",
     "text": [
      "Model Performance\n",
      "Average Error: 3.1474 degrees.\n",
      "Accuracy = 98.73%.\n"
     ]
    }
   ],
   "source": [
    "base_model = RandomForestRegressor(n_estimators = 10, random_state = 42)\n",
    "base_model.fit(X_train,y_train)\n",
    "base_accuracy = evaluate(base_model, X_test, y_test)"
   ]
  },
  {
   "cell_type": "code",
   "execution_count": 401,
   "metadata": {},
   "outputs": [
    {
     "name": "stdout",
     "output_type": "stream",
     "text": [
      "Model Performance\n",
      "Average Error: 3.6013 degrees.\n",
      "Accuracy = 98.48%.\n"
     ]
    }
   ],
   "source": [
    "best_random = rf_random.best_estimator_\n",
    "random_accuracy = evaluate(best_random,X_test, y_test )"
   ]
  },
  {
   "cell_type": "code",
   "execution_count": 402,
   "metadata": {},
   "outputs": [
    {
     "data": {
      "text/plain": [
       "RandomForestRegressor(bootstrap=False, ccp_alpha=0.0, criterion='mse',\n",
       "                      max_depth=None, max_features='sqrt', max_leaf_nodes=None,\n",
       "                      max_samples=None, min_impurity_decrease=0.0,\n",
       "                      min_impurity_split=None, min_samples_leaf=1,\n",
       "                      min_samples_split=2, min_weight_fraction_leaf=0.0,\n",
       "                      n_estimators=400, n_jobs=None, oob_score=False,\n",
       "                      random_state=None, verbose=0, warm_start=False)"
      ]
     },
     "execution_count": 402,
     "metadata": {},
     "output_type": "execute_result"
    }
   ],
   "source": [
    "best_random"
   ]
  },
  {
   "cell_type": "code",
   "execution_count": 403,
   "metadata": {},
   "outputs": [],
   "source": [
    "rf=RandomForestRegressor(bootstrap=False, ccp_alpha=0.0, criterion='mse',\n",
    "                      max_depth=None, max_features='sqrt', max_leaf_nodes=None,\n",
    "                      max_samples=None, min_impurity_decrease=0.0,\n",
    "                      min_impurity_split=None, min_samples_leaf=1,\n",
    "                      min_samples_split=2, min_weight_fraction_leaf=0.0,\n",
    "                      n_estimators=400, n_jobs=None, oob_score=False,\n",
    "                      random_state=None, verbose=0, warm_start=False)"
   ]
  },
  {
   "cell_type": "code",
   "execution_count": 404,
   "metadata": {},
   "outputs": [
    {
     "data": {
      "text/plain": [
       "RandomForestRegressor(bootstrap=False, ccp_alpha=0.0, criterion='mse',\n",
       "                      max_depth=None, max_features='sqrt', max_leaf_nodes=None,\n",
       "                      max_samples=None, min_impurity_decrease=0.0,\n",
       "                      min_impurity_split=None, min_samples_leaf=1,\n",
       "                      min_samples_split=2, min_weight_fraction_leaf=0.0,\n",
       "                      n_estimators=400, n_jobs=None, oob_score=False,\n",
       "                      random_state=None, verbose=0, warm_start=False)"
      ]
     },
     "execution_count": 404,
     "metadata": {},
     "output_type": "execute_result"
    }
   ],
   "source": [
    "rf.fit(X_train,y_train)"
   ]
  },
  {
   "cell_type": "code",
   "execution_count": 407,
   "metadata": {},
   "outputs": [
    {
     "data": {
      "text/plain": [
       "array([250.89125292, 308.63975396, 258.2666429 , 261.41167355,\n",
       "       288.67987031, 318.96287259, 293.6243744 , 249.02312414,\n",
       "       205.76797291, 288.50625142, 289.49612278, 209.65203609,\n",
       "       204.46144598, 203.3575472 , 256.2512603 , 261.41062245,\n",
       "       198.38277654, 261.21187189, 242.68236241, 186.33830287,\n",
       "       188.31543594, 212.85740911, 218.16644969, 170.2783003 ,\n",
       "       211.18057647, 279.39660861, 256.82300127, 251.49124054,\n",
       "       247.85692491, 350.87950244, 279.918246  , 318.79875352,\n",
       "       220.86087299, 255.59050445, 181.20199997, 233.53023876,\n",
       "       259.85875503, 314.06562448, 186.18012121, 260.00437129,\n",
       "       309.44499917, 260.75625292, 311.35162476, 280.39837104,\n",
       "       206.98608625, 295.49771151, 187.22476405, 310.04175221,\n",
       "       294.49400054, 290.17012692, 288.39964801, 271.66100568,\n",
       "       280.07750638, 245.60854013, 261.72687624, 205.48852337,\n",
       "       299.14750917, 316.63112668, 237.64369993, 319.18250195,\n",
       "       238.89717478, 274.40999805, 235.64782404, 198.12935149,\n",
       "       310.56937545, 167.0838986 , 189.3851738 , 152.87514973,\n",
       "       202.68381318, 266.26084815, 247.76225175, 225.78095077,\n",
       "       186.20155881, 186.138203  , 275.25462862, 288.35824813,\n",
       "       308.39487818, 307.02850119, 242.34670092, 180.77149691,\n",
       "       216.90523811, 187.34960935, 187.3414365 , 180.95582401,\n",
       "       230.06106363, 303.47074449, 220.27190161, 280.4368807 ,\n",
       "       194.02689174, 239.24905064, 246.27851403, 317.89375143,\n",
       "       257.06612519, 223.92668646, 219.07422566, 191.59987165,\n",
       "       273.45399597, 215.27952622])"
      ]
     },
     "execution_count": 407,
     "metadata": {},
     "output_type": "execute_result"
    }
   ],
   "source": [
    "predic_value=rf.predict(X_test)\n",
    "predic_value"
   ]
  },
  {
   "cell_type": "code",
   "execution_count": 421,
   "metadata": {},
   "outputs": [
    {
     "data": {
      "text/plain": [
       "5.837880525798957"
      ]
     },
     "execution_count": 421,
     "metadata": {},
     "output_type": "execute_result"
    }
   ],
   "source": [
    " (mean_squared_error(predic_value,y_test))**0.5"
   ]
  },
  {
   "cell_type": "code",
   "execution_count": 411,
   "metadata": {},
   "outputs": [
    {
     "data": {
      "text/plain": [
       "Index(['sbiAdjclose', 'austclose', 'hangsangClose', 'nikkies Close',\n",
       "       'niftyClose', 'usclose', 'actual_live_price', 'predicted_live_linear',\n",
       "       'pred_ridge', 'pred_ensemble'],\n",
       "      dtype='object')"
      ]
     },
     "execution_count": 411,
     "metadata": {},
     "output_type": "execute_result"
    }
   ],
   "source": [
    "test.columns"
   ]
  },
  {
   "cell_type": "code",
   "execution_count": 412,
   "metadata": {},
   "outputs": [],
   "source": [
    "test_random = test.drop(['actual_live_price', 'predicted_live_linear',\n",
    "       'pred_ridge', 'pred_ensemble'],axis = 1)"
   ]
  },
  {
   "cell_type": "code",
   "execution_count": 414,
   "metadata": {},
   "outputs": [],
   "source": [
    "pred_random = rf.predict(test_random)\n"
   ]
  },
  {
   "cell_type": "code",
   "execution_count": 415,
   "metadata": {},
   "outputs": [],
   "source": [
    "test[\"pred_random\"] = pred_random"
   ]
  },
  {
   "cell_type": "markdown",
   "metadata": {},
   "source": [
    "# May 3rd and 4 th week data testing"
   ]
  },
  {
   "cell_type": "code",
   "execution_count": 416,
   "metadata": {},
   "outputs": [
    {
     "data": {
      "text/html": [
       "<div>\n",
       "<style scoped>\n",
       "    .dataframe tbody tr th:only-of-type {\n",
       "        vertical-align: middle;\n",
       "    }\n",
       "\n",
       "    .dataframe tbody tr th {\n",
       "        vertical-align: top;\n",
       "    }\n",
       "\n",
       "    .dataframe thead th {\n",
       "        text-align: right;\n",
       "    }\n",
       "</style>\n",
       "<table border=\"1\" class=\"dataframe\">\n",
       "  <thead>\n",
       "    <tr style=\"text-align: right;\">\n",
       "      <th></th>\n",
       "      <th>sbiAdjclose</th>\n",
       "      <th>austclose</th>\n",
       "      <th>hangsangClose</th>\n",
       "      <th>nikkies Close</th>\n",
       "      <th>niftyClose</th>\n",
       "      <th>usclose</th>\n",
       "      <th>actual_live_price</th>\n",
       "      <th>predicted_live_linear</th>\n",
       "      <th>pred_ridge</th>\n",
       "      <th>pred_ensemble</th>\n",
       "      <th>pred_random</th>\n",
       "    </tr>\n",
       "  </thead>\n",
       "  <tbody>\n",
       "    <tr>\n",
       "      <th>0</th>\n",
       "      <td>187.75</td>\n",
       "      <td>5387.299805</td>\n",
       "      <td>24300.30000</td>\n",
       "      <td>19498.50000</td>\n",
       "      <td>9111.900391</td>\n",
       "      <td>8153.580078</td>\n",
       "      <td>186.800003</td>\n",
       "      <td>198.885808</td>\n",
       "      <td>183.836503</td>\n",
       "      <td>190.639163</td>\n",
       "      <td>239.194812</td>\n",
       "    </tr>\n",
       "    <tr>\n",
       "      <th>1</th>\n",
       "      <td>182.35</td>\n",
       "      <td>5466.700195</td>\n",
       "      <td>24145.33984</td>\n",
       "      <td>19550.08984</td>\n",
       "      <td>8925.299805</td>\n",
       "      <td>8393.179688</td>\n",
       "      <td>182.000000</td>\n",
       "      <td>192.612785</td>\n",
       "      <td>176.508103</td>\n",
       "      <td>186.263983</td>\n",
       "      <td>239.671874</td>\n",
       "    </tr>\n",
       "    <tr>\n",
       "      <th>2</th>\n",
       "      <td>184.75</td>\n",
       "      <td>5221.299805</td>\n",
       "      <td>23793.55078</td>\n",
       "      <td>19280.77930</td>\n",
       "      <td>8981.450195</td>\n",
       "      <td>8263.230469</td>\n",
       "      <td>185.500000</td>\n",
       "      <td>195.221928</td>\n",
       "      <td>176.907346</td>\n",
       "      <td>187.953314</td>\n",
       "      <td>238.438699</td>\n",
       "    </tr>\n",
       "    <tr>\n",
       "      <th>3</th>\n",
       "      <td>188.70</td>\n",
       "      <td>5221.200195</td>\n",
       "      <td>23893.35938</td>\n",
       "      <td>19137.94922</td>\n",
       "      <td>9187.299805</td>\n",
       "      <td>8495.379883</td>\n",
       "      <td>187.750000</td>\n",
       "      <td>200.298892</td>\n",
       "      <td>181.202009</td>\n",
       "      <td>216.788677</td>\n",
       "      <td>239.253637</td>\n",
       "    </tr>\n",
       "    <tr>\n",
       "      <th>4</th>\n",
       "      <td>186.70</td>\n",
       "      <td>5217.100098</td>\n",
       "      <td>23977.32031</td>\n",
       "      <td>19429.43945</td>\n",
       "      <td>9313.900391</td>\n",
       "      <td>8494.750000</td>\n",
       "      <td>184.000000</td>\n",
       "      <td>196.983000</td>\n",
       "      <td>178.308647</td>\n",
       "      <td>189.205133</td>\n",
       "      <td>238.262012</td>\n",
       "    </tr>\n",
       "    <tr>\n",
       "      <th>5</th>\n",
       "      <td>180.90</td>\n",
       "      <td>5321.399902</td>\n",
       "      <td>24280.14063</td>\n",
       "      <td>19783.22070</td>\n",
       "      <td>9282.299805</td>\n",
       "      <td>8730.160156</td>\n",
       "      <td>182.000000</td>\n",
       "      <td>190.657691</td>\n",
       "      <td>172.019868</td>\n",
       "      <td>184.880942</td>\n",
       "      <td>235.859387</td>\n",
       "    </tr>\n",
       "    <tr>\n",
       "      <th>6</th>\n",
       "      <td>184.30</td>\n",
       "      <td>5313.100098</td>\n",
       "      <td>24575.96094</td>\n",
       "      <td>19785.34560</td>\n",
       "      <td>9380.900391</td>\n",
       "      <td>8607.730469</td>\n",
       "      <td>185.000000</td>\n",
       "      <td>195.307937</td>\n",
       "      <td>177.728923</td>\n",
       "      <td>188.102867</td>\n",
       "      <td>237.516637</td>\n",
       "    </tr>\n",
       "    <tr>\n",
       "      <th>7</th>\n",
       "      <td>170.40</td>\n",
       "      <td>5407.100098</td>\n",
       "      <td>23868.66016</td>\n",
       "      <td>19619.98000</td>\n",
       "      <td>9205.599609</td>\n",
       "      <td>8809.120117</td>\n",
       "      <td>171.149994</td>\n",
       "      <td>180.729329</td>\n",
       "      <td>162.602987</td>\n",
       "      <td>178.479950</td>\n",
       "      <td>235.950037</td>\n",
       "    </tr>\n",
       "    <tr>\n",
       "      <th>8</th>\n",
       "      <td>171.10</td>\n",
       "      <td>5384.600098</td>\n",
       "      <td>24137.48047</td>\n",
       "      <td>19619.34961</td>\n",
       "      <td>9270.900391</td>\n",
       "      <td>8854.389648</td>\n",
       "      <td>170.850006</td>\n",
       "      <td>182.823666</td>\n",
       "      <td>164.540643</td>\n",
       "      <td>179.881557</td>\n",
       "      <td>236.654725</td>\n",
       "    </tr>\n",
       "    <tr>\n",
       "      <th>9</th>\n",
       "      <td>170.75</td>\n",
       "      <td>5364.200195</td>\n",
       "      <td>23980.63086</td>\n",
       "      <td>19674.76953</td>\n",
       "      <td>9199.049805</td>\n",
       "      <td>8979.660156</td>\n",
       "      <td>172.449997</td>\n",
       "      <td>181.069898</td>\n",
       "      <td>161.400457</td>\n",
       "      <td>178.559700</td>\n",
       "      <td>236.097324</td>\n",
       "    </tr>\n",
       "    <tr>\n",
       "      <th>10</th>\n",
       "      <td>165.45</td>\n",
       "      <td>5461.200195</td>\n",
       "      <td>24602.06055</td>\n",
       "      <td>20390.66016</td>\n",
       "      <td>9239.200195</td>\n",
       "      <td>9192.339844</td>\n",
       "      <td>164.199997</td>\n",
       "      <td>174.149442</td>\n",
       "      <td>154.884857</td>\n",
       "      <td>171.827057</td>\n",
       "      <td>237.884787</td>\n",
       "    </tr>\n",
       "    <tr>\n",
       "      <th>11</th>\n",
       "      <td>167.95</td>\n",
       "      <td>5328.700195</td>\n",
       "      <td>23829.74023</td>\n",
       "      <td>19914.77930</td>\n",
       "      <td>9142.750000</td>\n",
       "      <td>8943.719727</td>\n",
       "      <td>167.950000</td>\n",
       "      <td>176.015944</td>\n",
       "      <td>155.869767</td>\n",
       "      <td>173.102318</td>\n",
       "      <td>236.238674</td>\n",
       "    </tr>\n",
       "    <tr>\n",
       "      <th>12</th>\n",
       "      <td>166.40</td>\n",
       "      <td>5404.799805</td>\n",
       "      <td>23797.47070</td>\n",
       "      <td>20037.47070</td>\n",
       "      <td>9136.849609</td>\n",
       "      <td>9014.559570</td>\n",
       "      <td>166.400000</td>\n",
       "      <td>173.468894</td>\n",
       "      <td>153.773349</td>\n",
       "      <td>171.405428</td>\n",
       "      <td>237.042887</td>\n",
       "    </tr>\n",
       "    <tr>\n",
       "      <th>13</th>\n",
       "      <td>152.80</td>\n",
       "      <td>5559.500000</td>\n",
       "      <td>24388.13086</td>\n",
       "      <td>20433.44922</td>\n",
       "      <td>8879.099609</td>\n",
       "      <td>9185.099609</td>\n",
       "      <td>153.000000</td>\n",
       "      <td>161.489828</td>\n",
       "      <td>142.619499</td>\n",
       "      <td>158.490297</td>\n",
       "      <td>236.183924</td>\n",
       "    </tr>\n",
       "    <tr>\n",
       "      <th>14</th>\n",
       "      <td>153.40</td>\n",
       "      <td>5573.000000</td>\n",
       "      <td>24399.94922</td>\n",
       "      <td>20595.15039</td>\n",
       "      <td>9066.549805</td>\n",
       "      <td>9375.780273</td>\n",
       "      <td>153.650000</td>\n",
       "      <td>160.908870</td>\n",
       "      <td>141.576814</td>\n",
       "      <td>158.111529</td>\n",
       "      <td>235.950399</td>\n",
       "    </tr>\n",
       "    <tr>\n",
       "      <th>15</th>\n",
       "      <td>151.95</td>\n",
       "      <td>5550.399902</td>\n",
       "      <td>24280.02930</td>\n",
       "      <td>20552.31055</td>\n",
       "      <td>9106.250000</td>\n",
       "      <td>9284.879883</td>\n",
       "      <td>152.000000</td>\n",
       "      <td>159.543478</td>\n",
       "      <td>140.630380</td>\n",
       "      <td>157.277888</td>\n",
       "      <td>235.009412</td>\n",
       "    </tr>\n",
       "    <tr>\n",
       "      <th>16</th>\n",
       "      <td>150.85</td>\n",
       "      <td>5615.600098</td>\n",
       "      <td>22952.24023</td>\n",
       "      <td>20741.65039</td>\n",
       "      <td>9039.250000</td>\n",
       "      <td>9324.589844</td>\n",
       "      <td>152.400000</td>\n",
       "      <td>149.919182</td>\n",
       "      <td>130.291024</td>\n",
       "      <td>150.790514</td>\n",
       "      <td>221.417224</td>\n",
       "    </tr>\n",
       "  </tbody>\n",
       "</table>\n",
       "</div>"
      ],
      "text/plain": [
       "    sbiAdjclose    austclose  hangsangClose  nikkies Close   niftyClose  \\\n",
       "0        187.75  5387.299805    24300.30000    19498.50000  9111.900391   \n",
       "1        182.35  5466.700195    24145.33984    19550.08984  8925.299805   \n",
       "2        184.75  5221.299805    23793.55078    19280.77930  8981.450195   \n",
       "3        188.70  5221.200195    23893.35938    19137.94922  9187.299805   \n",
       "4        186.70  5217.100098    23977.32031    19429.43945  9313.900391   \n",
       "5        180.90  5321.399902    24280.14063    19783.22070  9282.299805   \n",
       "6        184.30  5313.100098    24575.96094    19785.34560  9380.900391   \n",
       "7        170.40  5407.100098    23868.66016    19619.98000  9205.599609   \n",
       "8        171.10  5384.600098    24137.48047    19619.34961  9270.900391   \n",
       "9        170.75  5364.200195    23980.63086    19674.76953  9199.049805   \n",
       "10       165.45  5461.200195    24602.06055    20390.66016  9239.200195   \n",
       "11       167.95  5328.700195    23829.74023    19914.77930  9142.750000   \n",
       "12       166.40  5404.799805    23797.47070    20037.47070  9136.849609   \n",
       "13       152.80  5559.500000    24388.13086    20433.44922  8879.099609   \n",
       "14       153.40  5573.000000    24399.94922    20595.15039  9066.549805   \n",
       "15       151.95  5550.399902    24280.02930    20552.31055  9106.250000   \n",
       "16       150.85  5615.600098    22952.24023    20741.65039  9039.250000   \n",
       "\n",
       "        usclose  actual_live_price  predicted_live_linear  pred_ridge  \\\n",
       "0   8153.580078         186.800003             198.885808  183.836503   \n",
       "1   8393.179688         182.000000             192.612785  176.508103   \n",
       "2   8263.230469         185.500000             195.221928  176.907346   \n",
       "3   8495.379883         187.750000             200.298892  181.202009   \n",
       "4   8494.750000         184.000000             196.983000  178.308647   \n",
       "5   8730.160156         182.000000             190.657691  172.019868   \n",
       "6   8607.730469         185.000000             195.307937  177.728923   \n",
       "7   8809.120117         171.149994             180.729329  162.602987   \n",
       "8   8854.389648         170.850006             182.823666  164.540643   \n",
       "9   8979.660156         172.449997             181.069898  161.400457   \n",
       "10  9192.339844         164.199997             174.149442  154.884857   \n",
       "11  8943.719727         167.950000             176.015944  155.869767   \n",
       "12  9014.559570         166.400000             173.468894  153.773349   \n",
       "13  9185.099609         153.000000             161.489828  142.619499   \n",
       "14  9375.780273         153.650000             160.908870  141.576814   \n",
       "15  9284.879883         152.000000             159.543478  140.630380   \n",
       "16  9324.589844         152.400000             149.919182  130.291024   \n",
       "\n",
       "    pred_ensemble  pred_random  \n",
       "0      190.639163   239.194812  \n",
       "1      186.263983   239.671874  \n",
       "2      187.953314   238.438699  \n",
       "3      216.788677   239.253637  \n",
       "4      189.205133   238.262012  \n",
       "5      184.880942   235.859387  \n",
       "6      188.102867   237.516637  \n",
       "7      178.479950   235.950037  \n",
       "8      179.881557   236.654725  \n",
       "9      178.559700   236.097324  \n",
       "10     171.827057   237.884787  \n",
       "11     173.102318   236.238674  \n",
       "12     171.405428   237.042887  \n",
       "13     158.490297   236.183924  \n",
       "14     158.111529   235.950399  \n",
       "15     157.277888   235.009412  \n",
       "16     150.790514   221.417224  "
      ]
     },
     "execution_count": 416,
     "metadata": {},
     "output_type": "execute_result"
    }
   ],
   "source": [
    "test"
   ]
  },
  {
   "cell_type": "markdown",
   "metadata": {},
   "source": [
    "# Checking ensemble model on 9 th june"
   ]
  },
  {
   "cell_type": "code",
   "execution_count": 425,
   "metadata": {},
   "outputs": [
    {
     "data": {
      "text/plain": [
       "array([172.10106308])"
      ]
     },
     "execution_count": 425,
     "metadata": {},
     "output_type": "execute_result"
    }
   ],
   "source": [
    "ensemble.predict([[186.80,5998.70,24776.77,23178.10,10167.45,9814.08]])"
   ]
  },
  {
   "cell_type": "markdown",
   "metadata": {},
   "source": [
    "# The actual value is 187.7 so the predcited value is more than 90% accurate."
   ]
  },
  {
   "cell_type": "code",
   "execution_count": 424,
   "metadata": {},
   "outputs": [],
   "source": [
    "import pickle\n",
    "pickle.dump(ensemble,open('sbi.pickle','wb'))\n",
    "sbi_picklemodel = pickle.load(open('sbi.pickle','rb'))"
   ]
  },
  {
   "cell_type": "markdown",
   "metadata": {},
   "source": [
    "#  Ensemble technique is found to be best model for predicting the SBI stock open price.\n",
    "\n"
   ]
  },
  {
   "cell_type": "markdown",
   "metadata": {},
   "source": [
    "# ====================code ends here=========================##"
   ]
  }
 ],
 "metadata": {
  "kernelspec": {
   "display_name": "Python 3",
   "language": "python",
   "name": "python3"
  },
  "language_info": {
   "codemirror_mode": {
    "name": "ipython",
    "version": 3
   },
   "file_extension": ".py",
   "mimetype": "text/x-python",
   "name": "python",
   "nbconvert_exporter": "python",
   "pygments_lexer": "ipython3",
   "version": "3.7.6"
  }
 },
 "nbformat": 4,
 "nbformat_minor": 2
}
